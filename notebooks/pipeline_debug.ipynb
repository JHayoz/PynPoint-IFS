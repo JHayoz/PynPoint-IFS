{
 "cells": [
  {
   "cell_type": "code",
   "execution_count": 1,
   "id": "a5f35da9",
   "metadata": {},
   "outputs": [],
   "source": [
    "from astropy.io import fits\n",
    "import numpy as np\n",
    "from matplotlib import pyplot as plt\n",
    "import sys\n",
    "import pynpoint as pp\n",
    "from glob import glob\n",
    "import pathlib"
   ]
  },
  {
   "cell_type": "code",
   "execution_count": 2,
   "id": "560505c4",
   "metadata": {},
   "outputs": [],
   "source": [
    "sys.path.append('/home/ipa/quanz/user_accounts/jhayoz/Projects/archival_SINFONI/SINFONI_pipeline/Pynpoint_ifs')"
   ]
  },
  {
   "cell_type": "code",
   "execution_count": 3,
   "id": "1db2786a",
   "metadata": {},
   "outputs": [],
   "source": [
    "import background_files as core"
   ]
  },
  {
   "cell_type": "code",
   "execution_count": 4,
   "id": "84180f4a",
   "metadata": {},
   "outputs": [],
   "source": [
    "pixscale=25e-3 # arcsec"
   ]
  },
  {
   "cell_type": "code",
   "execution_count": 5,
   "id": "494f9b68",
   "metadata": {},
   "outputs": [],
   "source": [
    "# Define Directories\n",
    "working_place_in = '/scratch/jhayoz/archival_sinfoni/BetaPicb/'\n",
    "root_dir = '/home/ipa/quanz/user_accounts/jhayoz/Projects/archival_SINFONI/'\n",
    "input_place_in   = root_dir + 'BetaPicb/'\n",
    "output_place_in  = root_dir + 'BetaPicb/products'"
   ]
  },
  {
   "cell_type": "code",
   "execution_count": 10,
   "id": "4f178a98",
   "metadata": {},
   "outputs": [],
   "source": [
    "files_offset = glob(input_place_in + 'archive_eso_products/reflex_end_products/2023-08-09T15:10:01/*/*OBS_OBJ*')\n",
    "files_onstar = glob(input_place_in + 'archive_eso_products/reflex_end_products/2023-08-09T16:15:11/*/*OBS_OBJ*')"
   ]
  },
  {
   "cell_type": "code",
   "execution_count": 11,
   "id": "55340abf",
   "metadata": {
    "scrolled": true
   },
   "outputs": [
    {
     "data": {
      "text/plain": [
       "['/home/ipa/quanz/user_accounts/jhayoz/Projects/archival_SINFONI/BetaPicb/archive_eso_products/reflex_end_products/2023-08-09T16:15:11/SINFO.2014-09-11T07:31:48.394_tpl/Beta-Pic-K_2nd-night_OBS_OBJ.fits',\n",
       " '/home/ipa/quanz/user_accounts/jhayoz/Projects/archival_SINFONI/BetaPicb/archive_eso_products/reflex_end_products/2023-08-09T16:15:11/SINFO.2014-09-11T07:35:37.624_tpl/Beta-Pic-K_2nd-night_OBS_OBJ.fits',\n",
       " '/home/ipa/quanz/user_accounts/jhayoz/Projects/archival_SINFONI/BetaPicb/archive_eso_products/reflex_end_products/2023-08-09T16:15:11/SINFO.2014-09-11T07:35:37.624_tpl/Beta-Pic-K_2nd-night_OBS_OBJ_1.fits',\n",
       " '/home/ipa/quanz/user_accounts/jhayoz/Projects/archival_SINFONI/BetaPicb/archive_eso_products/reflex_end_products/2023-08-09T16:15:11/SINFO.2014-09-11T07:35:37.624_tpl/Beta-Pic-K_2nd-night_OBS_OBJ_2.fits',\n",
       " '/home/ipa/quanz/user_accounts/jhayoz/Projects/archival_SINFONI/BetaPicb/archive_eso_products/reflex_end_products/2023-08-09T16:15:11/SINFO.2014-09-11T07:53:54.857_tpl/Beta-Pic-K_2nd-night_OBS_OBJ.fits',\n",
       " '/home/ipa/quanz/user_accounts/jhayoz/Projects/archival_SINFONI/BetaPicb/archive_eso_products/reflex_end_products/2023-08-09T16:15:11/SINFO.2014-09-11T07:53:54.857_tpl/Beta-Pic-K_2nd-night_OBS_OBJ_1.fits',\n",
       " '/home/ipa/quanz/user_accounts/jhayoz/Projects/archival_SINFONI/BetaPicb/archive_eso_products/reflex_end_products/2023-08-09T16:15:11/SINFO.2014-09-11T07:53:54.857_tpl/Beta-Pic-K_2nd-night_OBS_OBJ_2.fits',\n",
       " '/home/ipa/quanz/user_accounts/jhayoz/Projects/archival_SINFONI/BetaPicb/archive_eso_products/reflex_end_products/2023-08-09T16:15:11/SINFO.2014-09-11T07:53:54.857_tpl/Beta-Pic-K_2nd-night_OBS_OBJ_3.fits',\n",
       " '/home/ipa/quanz/user_accounts/jhayoz/Projects/archival_SINFONI/BetaPicb/archive_eso_products/reflex_end_products/2023-08-09T16:15:11/SINFO.2014-09-11T07:53:54.857_tpl/Beta-Pic-K_2nd-night_OBS_OBJ_4.fits',\n",
       " '/home/ipa/quanz/user_accounts/jhayoz/Projects/archival_SINFONI/BetaPicb/archive_eso_products/reflex_end_products/2023-08-09T16:15:11/SINFO.2014-09-11T07:53:54.857_tpl/Beta-Pic-K_2nd-night_OBS_OBJ_5.fits',\n",
       " '/home/ipa/quanz/user_accounts/jhayoz/Projects/archival_SINFONI/BetaPicb/archive_eso_products/reflex_end_products/2023-08-09T16:15:11/SINFO.2014-09-11T07:53:54.857_tpl/Beta-Pic-K_2nd-night_OBS_OBJ_6.fits',\n",
       " '/home/ipa/quanz/user_accounts/jhayoz/Projects/archival_SINFONI/BetaPicb/archive_eso_products/reflex_end_products/2023-08-09T16:15:11/SINFO.2014-09-11T07:53:54.857_tpl/Beta-Pic-K_2nd-night_OBS_OBJ_7.fits',\n",
       " '/home/ipa/quanz/user_accounts/jhayoz/Projects/archival_SINFONI/BetaPicb/archive_eso_products/reflex_end_products/2023-08-09T16:15:11/SINFO.2014-09-11T07:53:54.857_tpl/Beta-Pic-K_2nd-night_OBS_OBJ_8.fits',\n",
       " '/home/ipa/quanz/user_accounts/jhayoz/Projects/archival_SINFONI/BetaPicb/archive_eso_products/reflex_end_products/2023-08-09T16:15:11/SINFO.2014-09-11T07:53:54.857_tpl/Beta-Pic-K_2nd-night_OBS_OBJ_9.fits',\n",
       " '/home/ipa/quanz/user_accounts/jhayoz/Projects/archival_SINFONI/BetaPicb/archive_eso_products/reflex_end_products/2023-08-09T16:15:11/SINFO.2014-09-11T07:53:54.857_tpl/Beta-Pic-K_2nd-night_OBS_OBJ_10.fits',\n",
       " '/home/ipa/quanz/user_accounts/jhayoz/Projects/archival_SINFONI/BetaPicb/archive_eso_products/reflex_end_products/2023-08-09T16:15:11/SINFO.2014-09-11T07:53:54.857_tpl/Beta-Pic-K_2nd-night_OBS_OBJ_11.fits',\n",
       " '/home/ipa/quanz/user_accounts/jhayoz/Projects/archival_SINFONI/BetaPicb/archive_eso_products/reflex_end_products/2023-08-09T16:15:11/SINFO.2014-09-11T07:53:54.857_tpl/Beta-Pic-K_2nd-night_OBS_OBJ_12.fits',\n",
       " '/home/ipa/quanz/user_accounts/jhayoz/Projects/archival_SINFONI/BetaPicb/archive_eso_products/reflex_end_products/2023-08-09T16:15:11/SINFO.2014-09-11T07:53:54.857_tpl/Beta-Pic-K_2nd-night_OBS_OBJ_13.fits',\n",
       " '/home/ipa/quanz/user_accounts/jhayoz/Projects/archival_SINFONI/BetaPicb/archive_eso_products/reflex_end_products/2023-08-09T16:15:11/SINFO.2014-09-11T07:53:54.857_tpl/Beta-Pic-K_2nd-night_OBS_OBJ_14.fits',\n",
       " '/home/ipa/quanz/user_accounts/jhayoz/Projects/archival_SINFONI/BetaPicb/archive_eso_products/reflex_end_products/2023-08-09T16:15:11/SINFO.2014-09-11T07:53:54.857_tpl/Beta-Pic-K_2nd-night_OBS_OBJ_15.fits',\n",
       " '/home/ipa/quanz/user_accounts/jhayoz/Projects/archival_SINFONI/BetaPicb/archive_eso_products/reflex_end_products/2023-08-09T16:15:11/SINFO.2014-09-11T07:53:54.857_tpl/Beta-Pic-K_2nd-night_OBS_OBJ_16.fits',\n",
       " '/home/ipa/quanz/user_accounts/jhayoz/Projects/archival_SINFONI/BetaPicb/archive_eso_products/reflex_end_products/2023-08-09T16:15:11/SINFO.2014-09-11T07:53:54.857_tpl/Beta-Pic-K_2nd-night_OBS_OBJ_17.fits',\n",
       " '/home/ipa/quanz/user_accounts/jhayoz/Projects/archival_SINFONI/BetaPicb/archive_eso_products/reflex_end_products/2023-08-09T16:15:11/SINFO.2014-09-11T07:53:54.857_tpl/Beta-Pic-K_2nd-night_OBS_OBJ_18.fits',\n",
       " '/home/ipa/quanz/user_accounts/jhayoz/Projects/archival_SINFONI/BetaPicb/archive_eso_products/reflex_end_products/2023-08-09T16:15:11/SINFO.2014-09-11T07:53:54.857_tpl/Beta-Pic-K_2nd-night_OBS_OBJ_19.fits',\n",
       " '/home/ipa/quanz/user_accounts/jhayoz/Projects/archival_SINFONI/BetaPicb/archive_eso_products/reflex_end_products/2023-08-09T16:15:11/SINFO.2014-09-11T07:53:54.857_tpl/Beta-Pic-K_2nd-night_OBS_OBJ_20.fits',\n",
       " '/home/ipa/quanz/user_accounts/jhayoz/Projects/archival_SINFONI/BetaPicb/archive_eso_products/reflex_end_products/2023-08-09T16:15:11/SINFO.2014-09-11T07:53:54.857_tpl/Beta-Pic-K_2nd-night_OBS_OBJ_21.fits',\n",
       " '/home/ipa/quanz/user_accounts/jhayoz/Projects/archival_SINFONI/BetaPicb/archive_eso_products/reflex_end_products/2023-08-09T16:15:11/SINFO.2014-09-11T07:53:54.857_tpl/Beta-Pic-K_2nd-night_OBS_OBJ_22.fits',\n",
       " '/home/ipa/quanz/user_accounts/jhayoz/Projects/archival_SINFONI/BetaPicb/archive_eso_products/reflex_end_products/2023-08-09T16:15:11/SINFO.2014-09-11T07:53:54.857_tpl/Beta-Pic-K_2nd-night_OBS_OBJ_23.fits',\n",
       " '/home/ipa/quanz/user_accounts/jhayoz/Projects/archival_SINFONI/BetaPicb/archive_eso_products/reflex_end_products/2023-08-09T16:15:11/SINFO.2014-09-11T07:53:54.857_tpl/Beta-Pic-K_2nd-night_OBS_OBJ_24.fits',\n",
       " '/home/ipa/quanz/user_accounts/jhayoz/Projects/archival_SINFONI/BetaPicb/archive_eso_products/reflex_end_products/2023-08-09T16:15:11/SINFO.2014-09-11T07:53:54.857_tpl/Beta-Pic-K_2nd-night_OBS_OBJ_25.fits',\n",
       " '/home/ipa/quanz/user_accounts/jhayoz/Projects/archival_SINFONI/BetaPicb/archive_eso_products/reflex_end_products/2023-08-09T16:15:11/SINFO.2014-09-11T07:53:54.857_tpl/Beta-Pic-K_2nd-night_OBS_OBJ_26.fits']"
      ]
     },
     "execution_count": 11,
     "metadata": {},
     "output_type": "execute_result"
    }
   ],
   "source": [
    "files_onstar"
   ]
  },
  {
   "cell_type": "code",
   "execution_count": 12,
   "id": "a95e27f4",
   "metadata": {},
   "outputs": [],
   "source": [
    "dirs_offset = list(dict.fromkeys([pathlib.Path(files_offset[k]).parent for k in range(len(files_offset))]))\n",
    "dirs_onstar = list(dict.fromkeys([pathlib.Path(files_onstar[k]).parent for k in range(len(files_onstar))]))"
   ]
  },
  {
   "cell_type": "code",
   "execution_count": null,
   "id": "a8decd92-e5db-43a8-889c-0e3e7973618a",
   "metadata": {},
   "outputs": [],
   "source": []
  },
  {
   "cell_type": "code",
   "execution_count": 13,
   "id": "fc58a1c7",
   "metadata": {},
   "outputs": [
    {
     "data": {
      "text/plain": [
       "'/home/ipa/quanz/user_accounts/jhayoz/Projects/archival_SINFONI/BetaPicb/archive_eso_products/reflex_end_products/2023-08-09T16:15:11/SINFO.2014-09-11T07:31:48.394_tpl'"
      ]
     },
     "execution_count": 13,
     "metadata": {},
     "output_type": "execute_result"
    }
   ],
   "source": [
    "dirs_onstar[0].as_posix()"
   ]
  },
  {
   "cell_type": "code",
   "execution_count": 14,
   "id": "48e359c6",
   "metadata": {},
   "outputs": [
    {
     "name": "stdout",
     "output_type": "stream",
     "text": [
      "================\n",
      "PynPoint v0.10.0\n",
      "================\n",
      "\n",
      "Working place: /scratch/jhayoz/archival_sinfoni/BetaPicb/\n",
      "Input place: /home/ipa/quanz/user_accounts/jhayoz/Projects/archival_SINFONI/BetaPicb/\n",
      "Output place: /home/ipa/quanz/user_accounts/jhayoz/Projects/archival_SINFONI/BetaPicb/products\n",
      "\n",
      "Database: /scratch/jhayoz/archival_sinfoni/BetaPicb/PynPoint_database.hdf5\n",
      "Configuration: /scratch/jhayoz/archival_sinfoni/BetaPicb/PynPoint_config.ini\n",
      "\n",
      "Number of CPUs: 20\n",
      "Number of threads: not set\n"
     ]
    }
   ],
   "source": [
    "pipeline = pp.Pypeline(\n",
    "    working_place_in = working_place_in, \n",
    "    input_place_in   = input_place_in, \n",
    "    output_place_in  = output_place_in)"
   ]
  },
  {
   "cell_type": "markdown",
   "id": "52c23764",
   "metadata": {},
   "source": [
    "# Read raw data"
   ]
  },
  {
   "cell_type": "code",
   "execution_count": null,
   "id": "8b620b9d",
   "metadata": {},
   "outputs": [],
   "source": [
    "len(files_onstar)"
   ]
  },
  {
   "cell_type": "code",
   "execution_count": null,
   "id": "c1eb3808",
   "metadata": {},
   "outputs": [],
   "source": [
    "68758/31"
   ]
  },
  {
   "cell_type": "code",
   "execution_count": 80,
   "id": "e6510871",
   "metadata": {
    "scrolled": true
   },
   "outputs": [
    {
     "name": "stdout",
     "output_type": "stream",
     "text": [
      "\n",
      "-----------------\n",
      "FitsReadingModule\n",
      "-----------------\n",
      "\n",
      "Module name: read_raw_onstar\n",
      "Reading FITS files... [DONE]                      \n",
      "Output ports: raw_onstar (68758, 64, 64), fits_header/Beta-Pic-K_2nd-night_OBS_OBJ.fits (752,), fits_header/Beta-Pic-K_2nd-night_OBS_OBJ_1.fits (752,), fits_header/Beta-Pic-K_2nd-night_OBS_OBJ_2.fits (752,), fits_header/Beta-Pic-K_2nd-night_OBS_OBJ_10.fits (752,), fits_header/Beta-Pic-K_2nd-night_OBS_OBJ_11.fits (752,), fits_header/Beta-Pic-K_2nd-night_OBS_OBJ_12.fits (752,), fits_header/Beta-Pic-K_2nd-night_OBS_OBJ_13.fits (752,), fits_header/Beta-Pic-K_2nd-night_OBS_OBJ_14.fits (752,), fits_header/Beta-Pic-K_2nd-night_OBS_OBJ_15.fits (752,), fits_header/Beta-Pic-K_2nd-night_OBS_OBJ_16.fits (752,), fits_header/Beta-Pic-K_2nd-night_OBS_OBJ_17.fits (752,), fits_header/Beta-Pic-K_2nd-night_OBS_OBJ_18.fits (752,), fits_header/Beta-Pic-K_2nd-night_OBS_OBJ_19.fits (752,), fits_header/Beta-Pic-K_2nd-night_OBS_OBJ_20.fits (752,), fits_header/Beta-Pic-K_2nd-night_OBS_OBJ_21.fits (752,), fits_header/Beta-Pic-K_2nd-night_OBS_OBJ_22.fits (752,), fits_header/Beta-Pic-K_2nd-night_OBS_OBJ_23.fits (752,), fits_header/Beta-Pic-K_2nd-night_OBS_OBJ_24.fits (752,), fits_header/Beta-Pic-K_2nd-night_OBS_OBJ_25.fits (752,), fits_header/Beta-Pic-K_2nd-night_OBS_OBJ_26.fits (752,), fits_header/Beta-Pic-K_2nd-night_OBS_OBJ_3.fits (752,), fits_header/Beta-Pic-K_2nd-night_OBS_OBJ_4.fits (752,), fits_header/Beta-Pic-K_2nd-night_OBS_OBJ_5.fits (752,), fits_header/Beta-Pic-K_2nd-night_OBS_OBJ_6.fits (752,), fits_header/Beta-Pic-K_2nd-night_OBS_OBJ_7.fits (752,), fits_header/Beta-Pic-K_2nd-night_OBS_OBJ_8.fits (752,), fits_header/Beta-Pic-K_2nd-night_OBS_OBJ_9.fits (752,)\n"
     ]
    }
   ],
   "source": [
    "module = pp.FitsReadingModule(\n",
    "    name_in = 'read_raw_onstar',\n",
    "    filenames = files_onstar,\n",
    "    image_tag = 'raw_onstar',\n",
    "    check=True)\n",
    "pipeline.add_module(module)\n",
    "pipeline.run_module('read_raw_onstar')"
   ]
  },
  {
   "cell_type": "code",
   "execution_count": 85,
   "id": "b6e0a3c6",
   "metadata": {},
   "outputs": [],
   "source": [
    "data = pipeline.get_data('raw_onstar',data_range=(0,2218))"
   ]
  },
  {
   "cell_type": "code",
   "execution_count": 86,
   "id": "afb8d3b5",
   "metadata": {},
   "outputs": [
    {
     "data": {
      "text/plain": [
       "(2218, 64, 64)"
      ]
     },
     "execution_count": 86,
     "metadata": {},
     "output_type": "execute_result"
    }
   ],
   "source": [
    "np.shape(data)"
   ]
  },
  {
   "cell_type": "code",
   "execution_count": 87,
   "id": "85981b72",
   "metadata": {},
   "outputs": [
    {
     "data": {
      "image/png": "[encoded data removed]",
      "text/plain": [
       "<Figure size 432x288 with 1 Axes>"
      ]
     },
     "metadata": {
      "needs_background": "light"
     },
     "output_type": "display_data"
    }
   ],
   "source": [
    "data_non_nan = data[100:-100,2:-2,1:-1 ]\n",
    "img = np.nanmean(data[1200:1550,:,:],axis=0)\n",
    "plt.figure()\n",
    "plt.imshow(img,vmin=np.nanpercentile(img,5),vmax=np.nanpercentile(img,95))\n",
    "plt.show()"
   ]
  },
  {
   "cell_type": "markdown",
   "id": "79e98aa9",
   "metadata": {},
   "source": [
    "# Remove NaNs"
   ]
  },
  {
   "cell_type": "code",
   "execution_count": 21,
   "id": "9c0d4d36",
   "metadata": {},
   "outputs": [
    {
     "name": "stderr",
     "output_type": "stream",
     "text": [
      "/home/ipa/quanz/user_accounts/jhayoz/Projects/archival_SINFONI/SINFONI_pipeline/Pynpoint_ifs/background_files/ifucentering.py:10: DeprecationWarning: Please use `generic_filter` from the `scipy.ndimage` namespace, the `scipy.ndimage.filters` namespace is deprecated.\n",
      "  from scipy.ndimage.filters import generic_filter\n"
     ]
    }
   ],
   "source": [
    "from background_files.ifuframeselection import SelectWavelengthRangeModule\n",
    "from background_files.ifubadpixel import NanFilterModule\n",
    "from background_files.ifucentering import IFUAlignCubesModule\n",
    "from background_files.ifupsfpreparation import IFUStellarSpectrumModule\n",
    "from background_files.ifupsfsubtraction import IFUPSFSubtractionModule\n",
    "from background_files.ifuresizing import FoldingModule\n",
    "from background_files.ifustacksubset import CrossCorrelationPreparationModule\n",
    "from background_files.ifucrosscorrelation import CrossCorrelationModule\n",
    "from background_files.ifupcasubtraction import IFUResidualsPCAModule\n",
    "from background_files.ifuresizing import UnfoldingModule"
   ]
  },
  {
   "cell_type": "code",
   "execution_count": 17,
   "id": "3c9622ab",
   "metadata": {},
   "outputs": [
    {
     "name": "stdout",
     "output_type": "stream",
     "text": [
      "\n",
      "---------------------------\n",
      "SelectWavelengthRangeModule\n",
      "---------------------------\n",
      "\n",
      "Module name: select_range\n",
      "Input port: raw_onstar (68758, 64, 64)\n",
      "SelectWavelengthRangeModule... [DONE]                      \n",
      "Output ports: raw_onstar_spectrum_sel (46035, 64, 64), wavelength_range (1485,)\n"
     ]
    }
   ],
   "source": [
    "module = SelectWavelengthRangeModule(\n",
    "    name_in = 'select_range',\n",
    "    image_in_tag = 'raw_onstar',\n",
    "    image_out_tag = 'raw_onstar_spectrum_sel',\n",
    "    wv_out_tag = 'wavelength_range',\n",
    "    range_f = (2.088, 2.452))\n",
    "pipeline.add_module(module)\n",
    "pipeline.run_module('select_range')"
   ]
  },
  {
   "cell_type": "code",
   "execution_count": 32,
   "id": "4808e68f-f542-4f5d-9606-f463e89b72a0",
   "metadata": {},
   "outputs": [],
   "source": [
    "wvl = pipeline.get_data('wavelength_range')"
   ]
  },
  {
   "cell_type": "code",
   "execution_count": 33,
   "id": "1563cb61-3f49-4716-819a-daf565821cb6",
   "metadata": {},
   "outputs": [
    {
     "data": {
      "text/plain": [
       "array([2.08803647, 2.08828147, 2.08852647, ..., 2.45112981, 2.45137481,\n",
       "       2.45161982])"
      ]
     },
     "execution_count": 33,
     "metadata": {},
     "output_type": "execute_result"
    }
   ],
   "source": [
    "wvl"
   ]
  },
  {
   "cell_type": "code",
   "execution_count": 22,
   "id": "3db0d77c",
   "metadata": {},
   "outputs": [
    {
     "name": "stdout",
     "output_type": "stream",
     "text": [
      "\n",
      "---------------\n",
      "NanFilterModule\n",
      "---------------\n",
      "\n",
      "Module name: substitute_nans\n",
      "Input port: raw_onstar_spectrum_sel (46035, 64, 64)\n",
      "hey\n",
      "Running NanFilterModule............................................................................................................................................................................................................................................................................................................................................................................................................................................................................................................................................................................................................................................................................................................................................................................................................................................................................................................................................................ [DONE]\n",
      "Output port: raw_onstar_spectrum_sel_nancorr (46035, 64, 64)\n"
     ]
    }
   ],
   "source": [
    "module = NanFilterModule(\n",
    "    name_in = \"substitute_nans\",\n",
    "    image_in_tag = \"raw_onstar_spectrum_sel\",\n",
    "    image_out_tag = \"raw_onstar_spectrum_sel_nancorr\",\n",
    "    local=True\n",
    "    )\n",
    "pipeline.add_module(module)\n",
    "pipeline.run_module('substitute_nans')"
   ]
  },
  {
   "cell_type": "code",
   "execution_count": 24,
   "id": "8123f6eb-1981-4531-8d29-843a4f3ad6e7",
   "metadata": {},
   "outputs": [
    {
     "name": "stdout",
     "output_type": "stream",
     "text": [
      "\n",
      "-----------------\n",
      "RemoveLinesModule\n",
      "-----------------\n",
      "\n",
      "Module name: enlarge_image\n",
      "Input port: raw_onstar_spectrum_sel_nancorr (46035, 64, 64)\n",
      "Removing lines... [DONE]                      \n",
      "Output port: raw_onstar_spectrum_sel_nancorr_small (46035, 56, 56)\n"
     ]
    }
   ],
   "source": [
    "module = pp.RemoveLinesModule(\n",
    "    lines = (4,4,4,4),\n",
    "    name_in = \"enlarge_image\",\n",
    "    image_in_tag = \"raw_onstar_spectrum_sel_nancorr\",\n",
    "    image_out_tag = \"raw_onstar_spectrum_sel_nancorr_small\")\n",
    "\n",
    "pipeline.add_module(module)\n",
    "pipeline.run_module(\"enlarge_image\")"
   ]
  },
  {
   "cell_type": "code",
   "execution_count": 25,
   "id": "ae104b4f-aed5-4bee-9e87-9b629333b80a",
   "metadata": {},
   "outputs": [],
   "source": [
    "data = pipeline.get_data(\"raw_onstar_spectrum_sel_nancorr_small\")"
   ]
  },
  {
   "cell_type": "code",
   "execution_count": null,
   "id": "b7febcce-0405-416f-a02f-cd44460cd99e",
   "metadata": {},
   "outputs": [],
   "source": []
  },
  {
   "cell_type": "code",
   "execution_count": 36,
   "id": "33f9dc9b-1cb0-4560-bc80-5d1cd9e640d3",
   "metadata": {},
   "outputs": [
    {
     "data": {
      "text/plain": [
       "(46035, 56, 56)"
      ]
     },
     "execution_count": 36,
     "metadata": {},
     "output_type": "execute_result"
    }
   ],
   "source": [
    "np.shape(data)"
   ]
  },
  {
   "cell_type": "code",
   "execution_count": 37,
   "id": "3721d03d-1b75-431e-a18d-a2a5b07f3367",
   "metadata": {},
   "outputs": [
    {
     "data": {
      "text/plain": [
       "31.0"
      ]
     },
     "execution_count": 37,
     "metadata": {},
     "output_type": "execute_result"
    }
   ],
   "source": [
    "46035/1485"
   ]
  },
  {
   "cell_type": "code",
   "execution_count": null,
   "id": "ce0f5c4e-73eb-4809-a207-d8bea42d790f",
   "metadata": {},
   "outputs": [],
   "source": [
    "data.reshape((int(46035/1485),np.shape(data)[1]))"
   ]
  },
  {
   "cell_type": "code",
   "execution_count": 45,
   "id": "69432115-6f7a-429f-8697-0a960a73d8f7",
   "metadata": {},
   "outputs": [],
   "source": [
    "def select_cubes(data,wavelength):\n",
    "    length_cube = len(wavelength)\n",
    "    shape_cube = np.shape(data)\n",
    "    return data.reshape((int(shape_cube[0]/length_cube),length_cube,shape_cube[1],shape_cube[2]))"
   ]
  },
  {
   "cell_type": "code",
   "execution_count": 47,
   "id": "a3de3e95-652d-42ac-a2b9-390f78e53990",
   "metadata": {},
   "outputs": [],
   "source": [
    "datacubes = select_cubes(data,wvl)"
   ]
  },
  {
   "cell_type": "code",
   "execution_count": 54,
   "id": "9e05571e-7057-4bc7-90d9-f49d4d7ed391",
   "metadata": {},
   "outputs": [
    {
     "data": {
      "image/png": "[encoded data removed]",
      "text/plain": [
       "<Figure size 640x480 with 1 Axes>"
      ]
     },
     "metadata": {},
     "output_type": "display_data"
    }
   ],
   "source": [
    "plt.figure()\n",
    "plt.imshow(np.mean(datacubes[:2],axis=(0,1)))\n",
    "plt.show()"
   ]
  },
  {
   "cell_type": "code",
   "execution_count": 65,
   "id": "8fdb672e-d0fa-4828-9dfc-a6efd1555596",
   "metadata": {},
   "outputs": [],
   "source": [
    "data = pipeline.get_data('raw_onstar_spectrum_sel_nancorr_small')"
   ]
  },
  {
   "cell_type": "code",
   "execution_count": 66,
   "id": "853c49fe-8e6b-445e-a0b5-1cc84b99c256",
   "metadata": {},
   "outputs": [],
   "source": [
    "datacubes = select_cubes(data,wvl)"
   ]
  },
  {
   "cell_type": "code",
   "execution_count": 67,
   "id": "bbf2d9ca-3896-413f-a24e-d35eab9659f0",
   "metadata": {},
   "outputs": [
    {
     "data": {
      "text/plain": [
       "(31, 1485, 56, 56)"
      ]
     },
     "execution_count": 67,
     "metadata": {},
     "output_type": "execute_result"
    }
   ],
   "source": [
    "np.shape(datacubes)"
   ]
  },
  {
   "cell_type": "code",
   "execution_count": 69,
   "id": "9bd5bd69-eb9d-4f6a-b7e8-a612a0e5a055",
   "metadata": {},
   "outputs": [],
   "source": [
    "mean_spec = np.mean(datacubes,axis=(0,2,3))"
   ]
  },
  {
   "cell_type": "code",
   "execution_count": 70,
   "id": "fd379d7d-53e6-4754-b88b-88e9d7b03d12",
   "metadata": {},
   "outputs": [
    {
     "data": {
      "text/plain": [
       "[<matplotlib.lines.Line2D at 0x7fbfa63df6a0>]"
      ]
     },
     "execution_count": 70,
     "metadata": {},
     "output_type": "execute_result"
    },
    {
     "data": {
      "image/png": "[encoded data removed]",
      "text/plain": [
       "<Figure size 640x480 with 1 Axes>"
      ]
     },
     "metadata": {},
     "output_type": "display_data"
    }
   ],
   "source": [
    "plt.plot(wvl,mean_spec)"
   ]
  },
  {
   "cell_type": "code",
   "execution_count": 56,
   "id": "f6d192f8-d847-4dae-90b9-44293a06951e",
   "metadata": {},
   "outputs": [
    {
     "name": "stdout",
     "output_type": "stream",
     "text": [
      "\n",
      "---------------\n",
      "FitCenterModule\n",
      "---------------\n",
      "\n",
      "Module name: centering_all\n",
      "Input port: raw_onstar_spectrum_sel_nancorr_small (46035, 56, 56)\n",
      "Fitting the stellar PSF"
     ]
    },
    {
     "name": "stderr",
     "output_type": "stream",
     "text": [
      "/home/ipa/quanz/user_accounts/jhayoz/Projects/ENV_IFS_PP/PynPoint/pynpoint/processing/centering.py:245: DeprecationWarning: The 'radius' parameter has been deprecated. Please use the 'mask_radii' parameter instead. The argument of 'mask_radii' is set to (None, 1.0).\n",
      "  warnings.warn(f'The \\'radius\\' parameter has been deprecated. Please use the '\n",
      "/home/ipa/quanz/user_accounts/jhayoz/Projects/ENV_IFS_PP/PynPoint/pynpoint/util/apply_func.py:315: RuntimeWarning: invalid value encountered in sqrt\n",
      "  perr = np.sqrt(np.diag(pcov))\n"
     ]
    },
    {
     "name": "stdout",
     "output_type": "stream",
     "text": [
      "...................."
     ]
    },
    {
     "name": "stderr",
     "output_type": "stream",
     "text": [
      "/home/ipa/quanz/user_accounts/jhayoz/Projects/ENV_IFS_PP/PynPoint/pynpoint/util/apply_func.py:326: UserWarning: Fit could not converge on image number 31.\n",
      "  warnings.warn(f'Fit could not converge on image number {im_index}.')\n"
     ]
    },
    {
     "name": "stdout",
     "output_type": "stream",
     "text": [
      "."
     ]
    },
    {
     "name": "stderr",
     "output_type": "stream",
     "text": [
      "/home/ipa/quanz/user_accounts/jhayoz/Projects/ENV_IFS_PP/PynPoint/pynpoint/util/apply_func.py:326: UserWarning: Fit could not converge on image number 35.\n",
      "  warnings.warn(f'Fit could not converge on image number {im_index}.')\n"
     ]
    },
    {
     "name": "stdout",
     "output_type": "stream",
     "text": [
      "..."
     ]
    },
    {
     "name": "stderr",
     "output_type": "stream",
     "text": [
      "/home/ipa/quanz/user_accounts/jhayoz/Projects/ENV_IFS_PP/PynPoint/pynpoint/util/apply_func.py:315: RuntimeWarning: invalid value encountered in sqrt\n",
      "  perr = np.sqrt(np.diag(pcov))\n"
     ]
    },
    {
     "name": "stdout",
     "output_type": "stream",
     "text": [
      "................"
     ]
    },
    {
     "name": "stderr",
     "output_type": "stream",
     "text": [
      "/home/ipa/quanz/user_accounts/jhayoz/Projects/ENV_IFS_PP/PynPoint/pynpoint/util/apply_func.py:326: UserWarning: Fit could not converge on image number 9.\n",
      "  warnings.warn(f'Fit could not converge on image number {im_index}.')\n",
      "/home/ipa/quanz/user_accounts/jhayoz/Projects/ENV_IFS_PP/PynPoint/pynpoint/util/apply_func.py:326: UserWarning: Fit could not converge on image number 16.\n",
      "  warnings.warn(f'Fit could not converge on image number {im_index}.')\n"
     ]
    },
    {
     "name": "stdout",
     "output_type": "stream",
     "text": [
      "...................."
     ]
    },
    {
     "name": "stderr",
     "output_type": "stream",
     "text": [
      "/home/ipa/quanz/user_accounts/jhayoz/Projects/ENV_IFS_PP/PynPoint/pynpoint/util/apply_func.py:315: RuntimeWarning: invalid value encountered in sqrt\n",
      "  perr = np.sqrt(np.diag(pcov))\n"
     ]
    },
    {
     "name": "stdout",
     "output_type": "stream",
     "text": [
      ".............."
     ]
    },
    {
     "name": "stderr",
     "output_type": "stream",
     "text": [
      "/home/ipa/quanz/user_accounts/jhayoz/Projects/ENV_IFS_PP/PynPoint/pynpoint/util/apply_func.py:326: UserWarning: Fit could not converge on image number 1.\n",
      "  warnings.warn(f'Fit could not converge on image number {im_index}.')\n"
     ]
    },
    {
     "name": "stdout",
     "output_type": "stream",
     "text": [
      "....."
     ]
    },
    {
     "name": "stderr",
     "output_type": "stream",
     "text": [
      "/home/ipa/quanz/user_accounts/jhayoz/Projects/ENV_IFS_PP/PynPoint/pynpoint/util/apply_func.py:315: RuntimeWarning: invalid value encountered in sqrt\n",
      "  perr = np.sqrt(np.diag(pcov))\n"
     ]
    },
    {
     "name": "stdout",
     "output_type": "stream",
     "text": [
      "....."
     ]
    },
    {
     "name": "stderr",
     "output_type": "stream",
     "text": [
      "/home/ipa/quanz/user_accounts/jhayoz/Projects/ENV_IFS_PP/PynPoint/pynpoint/util/apply_func.py:326: UserWarning: Fit could not converge on image number 44.\n",
      "  warnings.warn(f'Fit could not converge on image number {im_index}.')\n"
     ]
    },
    {
     "name": "stdout",
     "output_type": "stream",
     "text": [
      "...................."
     ]
    },
    {
     "name": "stderr",
     "output_type": "stream",
     "text": [
      "/home/ipa/quanz/user_accounts/jhayoz/Projects/ENV_IFS_PP/PynPoint/pynpoint/util/apply_func.py:315: RuntimeWarning: invalid value encountered in sqrt\n",
      "  perr = np.sqrt(np.diag(pcov))\n"
     ]
    },
    {
     "name": "stdout",
     "output_type": "stream",
     "text": [
      ".."
     ]
    },
    {
     "name": "stderr",
     "output_type": "stream",
     "text": [
      "/home/ipa/quanz/user_accounts/jhayoz/Projects/ENV_IFS_PP/PynPoint/pynpoint/util/apply_func.py:326: UserWarning: Fit could not converge on image number 29.\n",
      "  warnings.warn(f'Fit could not converge on image number {im_index}.')\n"
     ]
    },
    {
     "name": "stdout",
     "output_type": "stream",
     "text": [
      ".........."
     ]
    },
    {
     "name": "stderr",
     "output_type": "stream",
     "text": [
      "/home/ipa/quanz/user_accounts/jhayoz/Projects/ENV_IFS_PP/PynPoint/pynpoint/util/apply_func.py:326: UserWarning: Fit could not converge on image number 36.\n",
      "  warnings.warn(f'Fit could not converge on image number {im_index}.')\n"
     ]
    },
    {
     "name": "stdout",
     "output_type": "stream",
     "text": [
      "....................."
     ]
    },
    {
     "name": "stderr",
     "output_type": "stream",
     "text": [
      "/home/ipa/quanz/user_accounts/jhayoz/Projects/ENV_IFS_PP/PynPoint/pynpoint/util/apply_func.py:326: UserWarning: Fit could not converge on image number 14.\n",
      "  warnings.warn(f'Fit could not converge on image number {im_index}.')\n"
     ]
    },
    {
     "name": "stdout",
     "output_type": "stream",
     "text": [
      "......"
     ]
    },
    {
     "name": "stderr",
     "output_type": "stream",
     "text": [
      "/home/ipa/quanz/user_accounts/jhayoz/Projects/ENV_IFS_PP/PynPoint/pynpoint/util/apply_func.py:315: RuntimeWarning: invalid value encountered in sqrt\n",
      "  perr = np.sqrt(np.diag(pcov))\n"
     ]
    },
    {
     "name": "stdout",
     "output_type": "stream",
     "text": [
      "....................."
     ]
    },
    {
     "name": "stderr",
     "output_type": "stream",
     "text": [
      "/home/ipa/quanz/user_accounts/jhayoz/Projects/ENV_IFS_PP/lib/python3.10/site-packages/scipy/optimize/_minpack_py.py:833: OptimizeWarning: Covariance of the parameters could not be estimated\n",
      "  warnings.warn('Covariance of the parameters could not be estimated',\n",
      "/home/ipa/quanz/user_accounts/jhayoz/Projects/ENV_IFS_PP/PynPoint/pynpoint/util/apply_func.py:326: UserWarning: Fit could not converge on image number 6.\n",
      "  warnings.warn(f'Fit could not converge on image number {im_index}.')\n"
     ]
    },
    {
     "name": "stdout",
     "output_type": "stream",
     "text": [
      ".........."
     ]
    },
    {
     "name": "stderr",
     "output_type": "stream",
     "text": [
      "/home/ipa/quanz/user_accounts/jhayoz/Projects/ENV_IFS_PP/PynPoint/pynpoint/util/apply_func.py:326: UserWarning: Fit could not converge on image number 49.\n",
      "  warnings.warn(f'Fit could not converge on image number {im_index}.')\n"
     ]
    },
    {
     "name": "stdout",
     "output_type": "stream",
     "text": [
      "....................."
     ]
    },
    {
     "name": "stderr",
     "output_type": "stream",
     "text": [
      "/home/ipa/quanz/user_accounts/jhayoz/Projects/ENV_IFS_PP/PynPoint/pynpoint/util/apply_func.py:315: RuntimeWarning: invalid value encountered in sqrt\n",
      "  perr = np.sqrt(np.diag(pcov))\n"
     ]
    },
    {
     "name": "stdout",
     "output_type": "stream",
     "text": [
      "...."
     ]
    },
    {
     "name": "stderr",
     "output_type": "stream",
     "text": [
      "/home/ipa/quanz/user_accounts/jhayoz/Projects/ENV_IFS_PP/lib/python3.10/site-packages/scipy/optimize/_minpack_py.py:833: OptimizeWarning: Covariance of the parameters could not be estimated\n",
      "  warnings.warn('Covariance of the parameters could not be estimated',\n"
     ]
    },
    {
     "name": "stdout",
     "output_type": "stream",
     "text": [
      "......................."
     ]
    },
    {
     "name": "stderr",
     "output_type": "stream",
     "text": [
      "/home/ipa/quanz/user_accounts/jhayoz/Projects/ENV_IFS_PP/PynPoint/pynpoint/util/apply_func.py:326: UserWarning: Fit could not converge on image number 19.\n",
      "  warnings.warn(f'Fit could not converge on image number {im_index}.')\n"
     ]
    },
    {
     "name": "stdout",
     "output_type": "stream",
     "text": [
      "..............."
     ]
    },
    {
     "name": "stderr",
     "output_type": "stream",
     "text": [
      "/home/ipa/quanz/user_accounts/jhayoz/Projects/ENV_IFS_PP/PynPoint/pynpoint/util/apply_func.py:315: RuntimeWarning: invalid value encountered in sqrt\n",
      "  perr = np.sqrt(np.diag(pcov))\n"
     ]
    },
    {
     "name": "stdout",
     "output_type": "stream",
     "text": [
      "............"
     ]
    },
    {
     "name": "stderr",
     "output_type": "stream",
     "text": [
      "/home/ipa/quanz/user_accounts/jhayoz/Projects/ENV_IFS_PP/PynPoint/pynpoint/util/apply_func.py:326: UserWarning: Fit could not converge on image number 4.\n",
      "  warnings.warn(f'Fit could not converge on image number {im_index}.')\n",
      "/home/ipa/quanz/user_accounts/jhayoz/Projects/ENV_IFS_PP/lib/python3.10/site-packages/scipy/optimize/_minpack_py.py:833: OptimizeWarning: Covariance of the parameters could not be estimated\n",
      "  warnings.warn('Covariance of the parameters could not be estimated',\n"
     ]
    },
    {
     "name": "stdout",
     "output_type": "stream",
     "text": [
      "..........."
     ]
    },
    {
     "name": "stderr",
     "output_type": "stream",
     "text": [
      "/home/ipa/quanz/user_accounts/jhayoz/Projects/ENV_IFS_PP/PynPoint/pynpoint/util/apply_func.py:315: RuntimeWarning: invalid value encountered in sqrt\n",
      "  perr = np.sqrt(np.diag(pcov))\n"
     ]
    },
    {
     "name": "stdout",
     "output_type": "stream",
     "text": [
      "..."
     ]
    },
    {
     "name": "stderr",
     "output_type": "stream",
     "text": [
      "/home/ipa/quanz/user_accounts/jhayoz/Projects/ENV_IFS_PP/lib/python3.10/site-packages/scipy/optimize/_minpack_py.py:833: OptimizeWarning: Covariance of the parameters could not be estimated\n",
      "  warnings.warn('Covariance of the parameters could not be estimated',\n"
     ]
    },
    {
     "name": "stdout",
     "output_type": "stream",
     "text": [
      "........................"
     ]
    },
    {
     "name": "stderr",
     "output_type": "stream",
     "text": [
      "/home/ipa/quanz/user_accounts/jhayoz/Projects/ENV_IFS_PP/lib/python3.10/site-packages/scipy/optimize/_minpack_py.py:833: OptimizeWarning: Covariance of the parameters could not be estimated\n",
      "  warnings.warn('Covariance of the parameters could not be estimated',\n"
     ]
    },
    {
     "name": "stdout",
     "output_type": "stream",
     "text": [
      "....."
     ]
    },
    {
     "name": "stderr",
     "output_type": "stream",
     "text": [
      "/home/ipa/quanz/user_accounts/jhayoz/Projects/ENV_IFS_PP/PynPoint/pynpoint/util/apply_func.py:326: UserWarning: Fit could not converge on image number 26.\n",
      "  warnings.warn(f'Fit could not converge on image number {im_index}.')\n"
     ]
    },
    {
     "name": "stdout",
     "output_type": "stream",
     "text": [
      "."
     ]
    },
    {
     "name": "stderr",
     "output_type": "stream",
     "text": [
      "/home/ipa/quanz/user_accounts/jhayoz/Projects/ENV_IFS_PP/lib/python3.10/site-packages/scipy/optimize/_minpack_py.py:833: OptimizeWarning: Covariance of the parameters could not be estimated\n",
      "  warnings.warn('Covariance of the parameters could not be estimated',\n"
     ]
    },
    {
     "name": "stdout",
     "output_type": "stream",
     "text": [
      "......................."
     ]
    },
    {
     "name": "stderr",
     "output_type": "stream",
     "text": [
      "/home/ipa/quanz/user_accounts/jhayoz/Projects/ENV_IFS_PP/lib/python3.10/site-packages/scipy/optimize/_minpack_py.py:833: OptimizeWarning: Covariance of the parameters could not be estimated\n",
      "  warnings.warn('Covariance of the parameters could not be estimated',\n",
      "/home/ipa/quanz/user_accounts/jhayoz/Projects/ENV_IFS_PP/lib/python3.10/site-packages/scipy/optimize/_minpack_py.py:833: OptimizeWarning: Covariance of the parameters could not be estimated\n",
      "  warnings.warn('Covariance of the parameters could not be estimated',\n"
     ]
    },
    {
     "name": "stdout",
     "output_type": "stream",
     "text": [
      ".."
     ]
    },
    {
     "name": "stderr",
     "output_type": "stream",
     "text": [
      "/home/ipa/quanz/user_accounts/jhayoz/Projects/ENV_IFS_PP/PynPoint/pynpoint/util/apply_func.py:326: UserWarning: Fit could not converge on image number 31.\n",
      "  warnings.warn(f'Fit could not converge on image number {im_index}.')\n"
     ]
    },
    {
     "name": "stdout",
     "output_type": "stream",
     "text": [
      "...................."
     ]
    },
    {
     "name": "stderr",
     "output_type": "stream",
     "text": [
      "/home/ipa/quanz/user_accounts/jhayoz/Projects/ENV_IFS_PP/PynPoint/pynpoint/util/apply_func.py:326: UserWarning: Fit could not converge on image number 9.\n",
      "  warnings.warn(f'Fit could not converge on image number {im_index}.')\n"
     ]
    },
    {
     "name": "stdout",
     "output_type": "stream",
     "text": [
      ".."
     ]
    },
    {
     "name": "stderr",
     "output_type": "stream",
     "text": [
      "/home/ipa/quanz/user_accounts/jhayoz/Projects/ENV_IFS_PP/PynPoint/pynpoint/util/apply_func.py:326: UserWarning: Fit could not converge on image number 16.\n",
      "  warnings.warn(f'Fit could not converge on image number {im_index}.')\n"
     ]
    },
    {
     "name": "stdout",
     "output_type": "stream",
     "text": [
      "................."
     ]
    },
    {
     "name": "stderr",
     "output_type": "stream",
     "text": [
      "/home/ipa/quanz/user_accounts/jhayoz/Projects/ENV_IFS_PP/PynPoint/pynpoint/util/apply_func.py:315: RuntimeWarning: invalid value encountered in sqrt\n",
      "  perr = np.sqrt(np.diag(pcov))\n"
     ]
    },
    {
     "name": "stdout",
     "output_type": "stream",
     "text": [
      ".................."
     ]
    },
    {
     "name": "stderr",
     "output_type": "stream",
     "text": [
      "/home/ipa/quanz/user_accounts/jhayoz/Projects/ENV_IFS_PP/PynPoint/pynpoint/util/apply_func.py:315: RuntimeWarning: invalid value encountered in sqrt\n",
      "  perr = np.sqrt(np.diag(pcov))\n"
     ]
    },
    {
     "name": "stdout",
     "output_type": "stream",
     "text": [
      ".."
     ]
    },
    {
     "name": "stderr",
     "output_type": "stream",
     "text": [
      "/home/ipa/quanz/user_accounts/jhayoz/Projects/ENV_IFS_PP/lib/python3.10/site-packages/scipy/optimize/_minpack_py.py:833: OptimizeWarning: Covariance of the parameters could not be estimated\n",
      "  warnings.warn('Covariance of the parameters could not be estimated',\n"
     ]
    },
    {
     "name": "stdout",
     "output_type": "stream",
     "text": [
      "........................."
     ]
    },
    {
     "name": "stderr",
     "output_type": "stream",
     "text": [
      "/home/ipa/quanz/user_accounts/jhayoz/Projects/ENV_IFS_PP/PynPoint/pynpoint/util/apply_func.py:326: UserWarning: Fit could not converge on image number 29.\n",
      "  warnings.warn(f'Fit could not converge on image number {im_index}.')\n"
     ]
    },
    {
     "name": "stdout",
     "output_type": "stream",
     "text": [
      ".........."
     ]
    },
    {
     "name": "stderr",
     "output_type": "stream",
     "text": [
      "/home/ipa/quanz/user_accounts/jhayoz/Projects/ENV_IFS_PP/lib/python3.10/site-packages/scipy/optimize/_minpack_py.py:833: OptimizeWarning: Covariance of the parameters could not be estimated\n",
      "  warnings.warn('Covariance of the parameters could not be estimated',\n"
     ]
    },
    {
     "name": "stdout",
     "output_type": "stream",
     "text": [
      "...................."
     ]
    },
    {
     "name": "stderr",
     "output_type": "stream",
     "text": [
      "/home/ipa/quanz/user_accounts/jhayoz/Projects/ENV_IFS_PP/lib/python3.10/site-packages/scipy/optimize/_minpack_py.py:833: OptimizeWarning: Covariance of the parameters could not be estimated\n",
      "  warnings.warn('Covariance of the parameters could not be estimated',\n",
      "/home/ipa/quanz/user_accounts/jhayoz/Projects/ENV_IFS_PP/PynPoint/pynpoint/util/apply_func.py:326: UserWarning: Fit could not converge on image number 14.\n",
      "  warnings.warn(f'Fit could not converge on image number {im_index}.')\n"
     ]
    },
    {
     "name": "stdout",
     "output_type": "stream",
     "text": [
      ".........................."
     ]
    },
    {
     "name": "stderr",
     "output_type": "stream",
     "text": [
      "/home/ipa/quanz/user_accounts/jhayoz/Projects/ENV_IFS_PP/lib/python3.10/site-packages/scipy/optimize/_minpack_py.py:833: OptimizeWarning: Covariance of the parameters could not be estimated\n",
      "  warnings.warn('Covariance of the parameters could not be estimated',\n"
     ]
    },
    {
     "name": "stdout",
     "output_type": "stream",
     "text": [
      "........................................"
     ]
    },
    {
     "name": "stderr",
     "output_type": "stream",
     "text": [
      "/home/ipa/quanz/user_accounts/jhayoz/Projects/ENV_IFS_PP/PynPoint/pynpoint/util/apply_func.py:326: UserWarning: Fit could not converge on image number 34.\n",
      "  warnings.warn(f'Fit could not converge on image number {im_index}.')\n"
     ]
    },
    {
     "name": "stdout",
     "output_type": "stream",
     "text": [
      ".."
     ]
    },
    {
     "name": "stderr",
     "output_type": "stream",
     "text": [
      "/home/ipa/quanz/user_accounts/jhayoz/Projects/ENV_IFS_PP/lib/python3.10/site-packages/scipy/optimize/_minpack_py.py:833: OptimizeWarning: Covariance of the parameters could not be estimated\n",
      "  warnings.warn('Covariance of the parameters could not be estimated',\n"
     ]
    },
    {
     "name": "stdout",
     "output_type": "stream",
     "text": [
      "...."
     ]
    },
    {
     "name": "stderr",
     "output_type": "stream",
     "text": [
      "/home/ipa/quanz/user_accounts/jhayoz/Projects/ENV_IFS_PP/PynPoint/pynpoint/util/apply_func.py:326: UserWarning: Fit could not converge on image number 41.\n",
      "  warnings.warn(f'Fit could not converge on image number {im_index}.')\n"
     ]
    },
    {
     "name": "stdout",
     "output_type": "stream",
     "text": [
      "..........."
     ]
    },
    {
     "name": "stderr",
     "output_type": "stream",
     "text": [
      "/home/ipa/quanz/user_accounts/jhayoz/Projects/ENV_IFS_PP/lib/python3.10/site-packages/scipy/optimize/_minpack_py.py:833: OptimizeWarning: Covariance of the parameters could not be estimated\n",
      "  warnings.warn('Covariance of the parameters could not be estimated',\n"
     ]
    },
    {
     "name": "stdout",
     "output_type": "stream",
     "text": [
      "."
     ]
    },
    {
     "name": "stderr",
     "output_type": "stream",
     "text": [
      "/home/ipa/quanz/user_accounts/jhayoz/Projects/ENV_IFS_PP/lib/python3.10/site-packages/scipy/optimize/_minpack_py.py:833: OptimizeWarning: Covariance of the parameters could not be estimated\n",
      "  warnings.warn('Covariance of the parameters could not be estimated',\n"
     ]
    },
    {
     "name": "stdout",
     "output_type": "stream",
     "text": [
      ".."
     ]
    },
    {
     "name": "stderr",
     "output_type": "stream",
     "text": [
      "/home/ipa/quanz/user_accounts/jhayoz/Projects/ENV_IFS_PP/PynPoint/pynpoint/util/apply_func.py:326: UserWarning: Fit could not converge on image number 18.\n",
      "  warnings.warn(f'Fit could not converge on image number {im_index}.')\n"
     ]
    },
    {
     "name": "stdout",
     "output_type": "stream",
     "text": [
      "."
     ]
    },
    {
     "name": "stderr",
     "output_type": "stream",
     "text": [
      "/home/ipa/quanz/user_accounts/jhayoz/Projects/ENV_IFS_PP/PynPoint/pynpoint/util/apply_func.py:326: UserWarning: Fit could not converge on image number 19.\n",
      "  warnings.warn(f'Fit could not converge on image number {im_index}.')\n"
     ]
    },
    {
     "name": "stdout",
     "output_type": "stream",
     "text": [
      "................."
     ]
    },
    {
     "name": "stderr",
     "output_type": "stream",
     "text": [
      "/home/ipa/quanz/user_accounts/jhayoz/Projects/ENV_IFS_PP/PynPoint/pynpoint/util/apply_func.py:315: RuntimeWarning: invalid value encountered in sqrt\n",
      "  perr = np.sqrt(np.diag(pcov))\n"
     ]
    },
    {
     "name": "stdout",
     "output_type": "stream",
     "text": [
      "......................."
     ]
    },
    {
     "name": "stderr",
     "output_type": "stream",
     "text": [
      "/home/ipa/quanz/user_accounts/jhayoz/Projects/ENV_IFS_PP/PynPoint/pynpoint/util/apply_func.py:315: RuntimeWarning: invalid value encountered in sqrt\n",
      "  perr = np.sqrt(np.diag(pcov))\n"
     ]
    },
    {
     "name": "stdout",
     "output_type": "stream",
     "text": [
      ".........................."
     ]
    },
    {
     "name": "stderr",
     "output_type": "stream",
     "text": [
      "/home/ipa/quanz/user_accounts/jhayoz/Projects/ENV_IFS_PP/lib/python3.10/site-packages/scipy/optimize/_minpack_py.py:833: OptimizeWarning: Covariance of the parameters could not be estimated\n",
      "  warnings.warn('Covariance of the parameters could not be estimated',\n"
     ]
    },
    {
     "name": "stdout",
     "output_type": "stream",
     "text": [
      ".."
     ]
    },
    {
     "name": "stderr",
     "output_type": "stream",
     "text": [
      "/home/ipa/quanz/user_accounts/jhayoz/Projects/ENV_IFS_PP/PynPoint/pynpoint/util/apply_func.py:326: UserWarning: Fit could not converge on image number 39.\n",
      "  warnings.warn(f'Fit could not converge on image number {im_index}.')\n"
     ]
    },
    {
     "name": "stdout",
     "output_type": "stream",
     "text": [
      "......"
     ]
    },
    {
     "name": "stderr",
     "output_type": "stream",
     "text": [
      "/home/ipa/quanz/user_accounts/jhayoz/Projects/ENV_IFS_PP/PynPoint/pynpoint/util/apply_func.py:326: UserWarning: Fit could not converge on image number 46.\n",
      "  warnings.warn(f'Fit could not converge on image number {im_index}.')\n"
     ]
    },
    {
     "name": "stdout",
     "output_type": "stream",
     "text": [
      "..................."
     ]
    },
    {
     "name": "stderr",
     "output_type": "stream",
     "text": [
      "/home/ipa/quanz/user_accounts/jhayoz/Projects/ENV_IFS_PP/PynPoint/pynpoint/util/apply_func.py:326: UserWarning: Fit could not converge on image number 24.\n",
      "  warnings.warn(f'Fit could not converge on image number {im_index}.')\n"
     ]
    },
    {
     "name": "stdout",
     "output_type": "stream",
     "text": [
      ".............................."
     ]
    },
    {
     "name": "stderr",
     "output_type": "stream",
     "text": [
      "/home/ipa/quanz/user_accounts/jhayoz/Projects/ENV_IFS_PP/PynPoint/pynpoint/util/apply_func.py:326: UserWarning: Fit could not converge on image number 16.\n",
      "  warnings.warn(f'Fit could not converge on image number {im_index}.')\n"
     ]
    },
    {
     "name": "stdout",
     "output_type": "stream",
     "text": [
      "....................."
     ]
    },
    {
     "name": "stderr",
     "output_type": "stream",
     "text": [
      "/home/ipa/quanz/user_accounts/jhayoz/Projects/ENV_IFS_PP/PynPoint/pynpoint/util/apply_func.py:326: UserWarning: Fit could not converge on image number 1.\n",
      "  warnings.warn(f'Fit could not converge on image number {im_index}.')\n"
     ]
    },
    {
     "name": "stdout",
     "output_type": "stream",
     "text": [
      "..........................."
     ]
    },
    {
     "name": "stderr",
     "output_type": "stream",
     "text": [
      "/home/ipa/quanz/user_accounts/jhayoz/Projects/ENV_IFS_PP/lib/python3.10/site-packages/scipy/optimize/_minpack_py.py:833: OptimizeWarning: Covariance of the parameters could not be estimated\n",
      "  warnings.warn('Covariance of the parameters could not be estimated',\n"
     ]
    },
    {
     "name": "stdout",
     "output_type": "stream",
     "text": [
      ".............."
     ]
    },
    {
     "name": "stderr",
     "output_type": "stream",
     "text": [
      "/home/ipa/quanz/user_accounts/jhayoz/Projects/ENV_IFS_PP/PynPoint/pynpoint/util/apply_func.py:326: UserWarning: Fit could not converge on image number 29.\n",
      "  warnings.warn(f'Fit could not converge on image number {im_index}.')\n"
     ]
    },
    {
     "name": "stdout",
     "output_type": "stream",
     "text": [
      "....................."
     ]
    },
    {
     "name": "stderr",
     "output_type": "stream",
     "text": [
      "/home/ipa/quanz/user_accounts/jhayoz/Projects/ENV_IFS_PP/PynPoint/pynpoint/util/apply_func.py:326: UserWarning: Fit could not converge on image number 14.\n",
      "  warnings.warn(f'Fit could not converge on image number {im_index}.')\n"
     ]
    },
    {
     "name": "stdout",
     "output_type": "stream",
     "text": [
      "..."
     ]
    },
    {
     "name": "stderr",
     "output_type": "stream",
     "text": [
      "/home/ipa/quanz/user_accounts/jhayoz/Projects/ENV_IFS_PP/PynPoint/pynpoint/util/apply_func.py:326: UserWarning: Fit could not converge on image number 21.\n",
      "  warnings.warn(f'Fit could not converge on image number {im_index}.')\n"
     ]
    },
    {
     "name": "stdout",
     "output_type": "stream",
     "text": [
      "..........................................."
     ]
    },
    {
     "name": "stderr",
     "output_type": "stream",
     "text": [
      "/home/ipa/quanz/user_accounts/jhayoz/Projects/ENV_IFS_PP/PynPoint/pynpoint/util/apply_func.py:326: UserWarning: Fit could not converge on image number 49.\n",
      "  warnings.warn(f'Fit could not converge on image number {im_index}.')\n"
     ]
    },
    {
     "name": "stdout",
     "output_type": "stream",
     "text": [
      "........................"
     ]
    },
    {
     "name": "stderr",
     "output_type": "stream",
     "text": [
      "/home/ipa/quanz/user_accounts/jhayoz/Projects/ENV_IFS_PP/PynPoint/pynpoint/util/apply_func.py:326: UserWarning: Fit could not converge on image number 34.\n",
      "  warnings.warn(f'Fit could not converge on image number {im_index}.')\n"
     ]
    },
    {
     "name": "stdout",
     "output_type": "stream",
     "text": [
      "...."
     ]
    },
    {
     "name": "stderr",
     "output_type": "stream",
     "text": [
      "/home/ipa/quanz/user_accounts/jhayoz/Projects/ENV_IFS_PP/PynPoint/pynpoint/util/apply_func.py:326: UserWarning: Fit could not converge on image number 41.\n",
      "  warnings.warn(f'Fit could not converge on image number {im_index}.')\n"
     ]
    },
    {
     "name": "stdout",
     "output_type": "stream",
     "text": [
      ".........................."
     ]
    },
    {
     "name": "stderr",
     "output_type": "stream",
     "text": [
      "/home/ipa/quanz/user_accounts/jhayoz/Projects/ENV_IFS_PP/PynPoint/pynpoint/util/apply_func.py:326: UserWarning: Fit could not converge on image number 26.\n",
      "  warnings.warn(f'Fit could not converge on image number {im_index}.')\n"
     ]
    },
    {
     "name": "stdout",
     "output_type": "stream",
     "text": [
      "................."
     ]
    },
    {
     "name": "stderr",
     "output_type": "stream",
     "text": [
      "/home/ipa/quanz/user_accounts/jhayoz/Projects/ENV_IFS_PP/PynPoint/pynpoint/util/apply_func.py:326: UserWarning: Fit could not converge on image number 4.\n",
      "  warnings.warn(f'Fit could not converge on image number {im_index}.')\n"
     ]
    },
    {
     "name": "stdout",
     "output_type": "stream",
     "text": [
      "......"
     ]
    },
    {
     "name": "stderr",
     "output_type": "stream",
     "text": [
      "/home/ipa/quanz/user_accounts/jhayoz/Projects/ENV_IFS_PP/PynPoint/pynpoint/util/apply_func.py:326: UserWarning: Fit could not converge on image number 11.\n",
      "  warnings.warn(f'Fit could not converge on image number {im_index}.')\n"
     ]
    },
    {
     "name": "stdout",
     "output_type": "stream",
     "text": [
      ".............................."
     ]
    },
    {
     "name": "stderr",
     "output_type": "stream",
     "text": [
      "/home/ipa/quanz/user_accounts/jhayoz/Projects/ENV_IFS_PP/PynPoint/pynpoint/util/apply_func.py:315: RuntimeWarning: invalid value encountered in sqrt\n",
      "  perr = np.sqrt(np.diag(pcov))\n"
     ]
    },
    {
     "name": "stdout",
     "output_type": "stream",
     "text": [
      "........."
     ]
    },
    {
     "name": "stderr",
     "output_type": "stream",
     "text": [
      "/home/ipa/quanz/user_accounts/jhayoz/Projects/ENV_IFS_PP/PynPoint/pynpoint/util/apply_func.py:326: UserWarning: Fit could not converge on image number 39.\n",
      "  warnings.warn(f'Fit could not converge on image number {im_index}.')\n"
     ]
    },
    {
     "name": "stdout",
     "output_type": "stream",
     "text": [
      "........................"
     ]
    },
    {
     "name": "stderr",
     "output_type": "stream",
     "text": [
      "/home/ipa/quanz/user_accounts/jhayoz/Projects/ENV_IFS_PP/PynPoint/pynpoint/util/apply_func.py:326: UserWarning: Fit could not converge on image number 24.\n",
      "  warnings.warn(f'Fit could not converge on image number {im_index}.')\n"
     ]
    },
    {
     "name": "stdout",
     "output_type": "stream",
     "text": [
      ".......... [DONE]\n",
      "Output port: raw_onstar_spectrum_sel_nancorr_small_ctr (46035, 14)\n"
     ]
    }
   ],
   "source": [
    "# pynpoint\n",
    "module = pp.FitCenterModule(name_in = \"centering_all\",\n",
    "                                image_in_tag = \"raw_onstar_spectrum_sel_nancorr_small\",\n",
    "                                method='full',\n",
    "                                fit_out_tag='raw_onstar_spectrum_sel_nancorr_small_ctr',\n",
    "                                radius = 1.0)\n",
    "\n",
    "pipeline.add_module(module)\n",
    "pipeline.run_module(\"centering_all\")"
   ]
  },
  {
   "cell_type": "code",
   "execution_count": 57,
   "id": "eb368a1e-53d5-4614-a01b-17f049461209",
   "metadata": {},
   "outputs": [],
   "source": [
    "data = pipeline.get_data('raw_onstar_spectrum_sel_nancorr_small_ctr')"
   ]
  },
  {
   "cell_type": "code",
   "execution_count": 59,
   "id": "5458fed6-03a1-4d0a-93f9-6a981d2491d7",
   "metadata": {},
   "outputs": [
    {
     "data": {
      "text/plain": [
       "(46035, 14)"
      ]
     },
     "execution_count": 59,
     "metadata": {},
     "output_type": "execute_result"
    }
   ],
   "source": [
    "np.shape(data)"
   ]
  },
  {
   "cell_type": "code",
   "execution_count": 60,
   "id": "f81b3303-9f70-4068-8ae7-fe4e608c2936",
   "metadata": {},
   "outputs": [],
   "source": [
    "psf_pos = np.vstack([data[:,0],data[:,2]])"
   ]
  },
  {
   "cell_type": "code",
   "execution_count": 61,
   "id": "b3c84768-42df-4d6f-9d3d-c1c47d213793",
   "metadata": {},
   "outputs": [
    {
     "data": {
      "text/plain": [
       "(2, 46035)"
      ]
     },
     "execution_count": 61,
     "metadata": {},
     "output_type": "execute_result"
    }
   ],
   "source": [
    "np.shape(psf_pos)"
   ]
  },
  {
   "cell_type": "code",
   "execution_count": 64,
   "id": "a6d7c304-aee6-4d5c-874d-3dd6abb3a89b",
   "metadata": {},
   "outputs": [
    {
     "data": {
      "text/plain": [
       "[<matplotlib.lines.Line2D at 0x7fbfa63891b0>]"
      ]
     },
     "execution_count": 64,
     "metadata": {},
     "output_type": "execute_result"
    },
    {
     "data": {
      "image/png": "[encoded data removed]",
      "text/plain": [
       "<Figure size 640x480 with 1 Axes>"
      ]
     },
     "metadata": {},
     "output_type": "display_data"
    }
   ],
   "source": [
    "plt.plot(psf_pos[0])\n",
    "plt.plot(psf_pos[1])"
   ]
  },
  {
   "cell_type": "code",
   "execution_count": null,
   "id": "27a65cbf-2e0b-4c37-8c61-e6585ccf1d9d",
   "metadata": {},
   "outputs": [],
   "source": [
    "# pynpoint\n",
    "Coadd_cubes = StackCubesModule(name_in= \"Coadd_cubes\",\n",
    "                             image_in_tag = \"spectrum_NaN_small\",\n",
    "                             image_out_tag = \"coadded_cubes\",\n",
    "                             combine='median')\n",
    "\n",
    "\n",
    "\n",
    "pipeline.add_module(Coadd_cubes)\n",
    "pipeline.run_module(\"Coadd_cubes\")\n",
    "pipeline.get_data(\"coadded_cubes\")"
   ]
  },
  {
   "cell_type": "code",
   "execution_count": null,
   "id": "e37f9fd7-63e6-4be7-a099-ae56733c3265",
   "metadata": {},
   "outputs": [],
   "source": [
    "Centering_cubes = FitCenterModule(name_in = \"Centering_cubes\",\n",
    "                                image_in_tag = \"coadded_cubes\",\n",
    "                                method='full',\n",
    "                                fit_out_tag='centering_cubes',\n",
    "                                radius = 1.0)"
   ]
  },
  {
   "cell_type": "code",
   "execution_count": null,
   "id": "4effcc1a-0e58-4d94-b031-a98fd263daab",
   "metadata": {},
   "outputs": [],
   "source": [
    "Shift_no_center = IFUAlignCubesModule(precision=0.02,\n",
    "                                      shift_all_in_tag= \"centering_all\",\n",
    "                                       shift_cube_in_tag = \"centering_cubes\",\n",
    "                                       interpolation=\"spline\",\n",
    "                                       name_in=\"shift_no_center\",\n",
    "                                       image_in_tag=\"spectrum_NaN_small\",\n",
    "                                       image_out_tag=\"cubes_aligned\")\n",
    "pipeline.add_module(Shift_no_center)\n",
    "pipeline.run_module(\"shift_no_center\")"
   ]
  },
  {
   "cell_type": "code",
   "execution_count": null,
   "id": "95bba306-820c-419b-b0ca-2fca43984130",
   "metadata": {},
   "outputs": [],
   "source": [
    "Centering_test = FitCenterModule(name_in = \"Centering_test\",\n",
    "                                  image_in_tag = \"cubes_aligned\",\n",
    "                                  method='full',\n",
    "                                  fit_out_tag='centering_test',\n",
    "                                  radius = 1.0,\n",
    "                                  guess=(0.5,0.2,3.,3.,5000,0.,0.))\n",
    "\n",
    "pipeline.add_module(Centering_test)\n",
    "pipeline.run_module(\"Centering_test\")\n",
    "pipeline.get_data(\"centering_test\")"
   ]
  },
  {
   "cell_type": "code",
   "execution_count": null,
   "id": "3026ec6a-7a04-4b92-9fcf-6ee0ddef0086",
   "metadata": {},
   "outputs": [],
   "source": [
    "# pynpoint\n",
    "bp = BadPixelSigmaFilterModule(name_in='bp',\n",
    "                               image_in_tag=\"cubes_aligned\",\n",
    "                               image_out_tag=\"cubes_bp\",\n",
    "                               map_out_tag=None,\n",
    "                               box=9,\n",
    "                               sigma=3.,\n",
    "                               iterate=4)\n",
    "\n",
    "pipeline.add_module(bp)\n",
    "pipeline.run_module('bp')\n",
    "pipeline.get_data(\"cubes_bp\")"
   ]
  },
  {
   "cell_type": "code",
   "execution_count": null,
   "id": "9a22e044-21b7-459a-9bd2-655a412b1d84",
   "metadata": {},
   "outputs": [],
   "source": [
    "star_master = IFUStellarSpectrumModule(name_in=\"star_master\",\n",
    "                                       image_in_tag=\"cubes_aligned\",\n",
    "                                       wv_in_tag = \"wavelength_range\",\n",
    "                                       spectrum_out_tag=\"stellar_spectrum\",\n",
    "                                       num_pix = 10,\n",
    "                                       std_max = 0.1)\n",
    "pipeline.add_module(star_master)\n",
    "pipeline.run_module(\"star_master\")\n",
    "pipeline.get_data(\"stellar_spectrum\")"
   ]
  },
  {
   "cell_type": "code",
   "execution_count": null,
   "id": "91a8c19e-0e2d-48d6-a257-4db8850cd485",
   "metadata": {},
   "outputs": [],
   "source": [
    "## bugs here!!!\n",
    "master_sub = IFUPSFSubtractionModule(name_in = \"master_sub\",\n",
    "                                     image_in_tag=\"cubes_aligned\",\n",
    "                                     #stellar_spectra_in_tag = \"stellar_spectrum\",\n",
    "                                     image_out_tag = \"PSF_sub\",\n",
    "                                     #gauss_sigma=10,\n",
    "                                     sigma=2.,\n",
    "                                     #iteration = 2\n",
    "                                     )\n",
    "\n",
    "pipeline.add_module(master_sub)\n",
    "pipeline.run_module(\"master_sub\")\n",
    "pipeline.get_data(\"PSF_sub\")"
   ]
  },
  {
   "cell_type": "code",
   "execution_count": null,
   "id": "0f2f1758-21ca-401d-9563-51ce4a7e6ecf",
   "metadata": {},
   "outputs": [],
   "source": [
    "# pynpoint\n",
    "parang = ParangReadingModule(file_name = 'parang.txt',\n",
    "                             name_in = \"parang\",\n",
    "                             input_dir= \"/home/ipa/quanz/user_accounts/egarvin/IFS_pipeline/30_data/betapic/sinfoni_Kband/auxiliaries\",\n",
    "                             #input_dir = '/Users/Gabo/SINFONI/Beta_Pic/Results/',\n",
    "                             data_tag = \"PSF_sub\")\n",
    "\n",
    "pipeline.add_module(parang)\n",
    "pipeline.run_module(\"parang\")\n",
    "pipeline.get_data(\"PSF_sub\")"
   ]
  },
  {
   "cell_type": "code",
   "execution_count": null,
   "id": "a5224bcc-9e3f-4820-9c5a-bc13564198e9",
   "metadata": {},
   "outputs": [],
   "source": [
    "Folding = FoldingModule(name_in=\"Folding\",\n",
    "                        image_in_tag=\"PSF_sub\",\n",
    "                        image_out_tag = \"im_2D\")\n",
    "\n",
    "pipeline.add_module(Folding)\n",
    "pipeline.run_module(\"Folding\")\n",
    "pipeline.get_data(\"im_2D\") # next bug is here."
   ]
  },
  {
   "cell_type": "code",
   "execution_count": null,
   "id": "96da5cfe-b6ed-49d5-8518-bbb328d691b4",
   "metadata": {},
   "outputs": [],
   "source": [
    "PCA = IFUResidualsPCAModule(pc_number = 3,\n",
    "                            name_in=\"PCA\",\n",
    "                            image_in_tag=\"im_2D\",\n",
    "                            image_out_tag = \"im_2D_PCA\")"
   ]
  },
  {
   "cell_type": "code",
   "execution_count": null,
   "id": "39163c6a-85be-4688-8821-81cd226a9f51",
   "metadata": {},
   "outputs": [],
   "source": [
    "\n",
    "Unfolding = UnfoldingModule(name_in=\"Unfolding\",\n",
    "                        image_in_tag=\"im_2D\",\n",
    "                        image_out_tag = \"3D_PCA\")"
   ]
  },
  {
   "cell_type": "code",
   "execution_count": null,
   "id": "caca226e-8c79-4afb-831d-d9fa3d53d0a6",
   "metadata": {},
   "outputs": [],
   "source": [
    "# pynpoint\n",
    "Large_image = AddLinesModule(lines = (20,20,20,20),\n",
    "                                name_in = \"Large_image\",\n",
    "                                image_in_tag = \"3D_PCA\",\n",
    "                                image_out_tag = \"3D_PCA_large\")"
   ]
  },
  {
   "cell_type": "code",
   "execution_count": null,
   "id": "34323b1d-47f0-4841-88b8-557825429a9f",
   "metadata": {},
   "outputs": [],
   "source": [
    "\n",
    "CC_prep = CrossCorrelationPreparationModule(name_in=\"CC_prep\",\n",
    "                                            image_in_tag=\"3D_PCA_large\",\n",
    "                                            shift_cubes_in_tag=\"centering_cubes\",\n",
    "                                            image_out_tag=\"CC_prep\",\n",
    "                                            mask_out_tag=\"mask\",\n",
    "                                            data_mask_out_tag = \"data_mask\")"
   ]
  },
  {
   "cell_type": "code",
   "execution_count": null,
   "id": "9a86509d-532c-4aea-aa2d-3dbee780a1a3",
   "metadata": {},
   "outputs": [],
   "source": [
    "CrossCorr = CrossCorrelationModule(name_in = \"CrossCorr\",\n",
    "                                   RV = 2500,\n",
    "                                   dRV = 10,\n",
    "                                   data_wv_in_tag = \"wavelength_range\",\n",
    "                                   model_wv = wv_data,\n",
    "                                   model_abs = H2O_residuals_LR,\n",
    "                                   image_in_tag = \"data_mask\",\n",
    "                                   mask_in_tag = \"mask\",\n",
    "                                   snr_map_out_tag = \"snr\",\n",
    "                                   CC_cube_out_tag = \"CC_cube\"\n",
    "                                   )"
   ]
  },
  {
   "cell_type": "code",
   "execution_count": null,
   "id": "181ab110-81a4-42ba-ae29-e7cc4220120f",
   "metadata": {},
   "outputs": [],
   "source": []
  }
 ],
 "metadata": {
  "kernelspec": {
   "display_name": "Python 3 (ipykernel)",
   "language": "python",
   "name": "python3"
  },
  "language_info": {
   "codemirror_mode": {
    "name": "ipython",
    "version": 3
   },
   "file_extension": ".py",
   "mimetype": "text/x-python",
   "name": "python",
   "nbconvert_exporter": "python",
   "pygments_lexer": "ipython3",
   "version": "3.10.12"
  }
 },
 "nbformat": 4,
 "nbformat_minor": 5
}
