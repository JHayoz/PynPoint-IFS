{
 "cells": [
  {
   "cell_type": "markdown",
   "id": "51df192d-bef4-48fa-a71a-b3dff1a7b6c1",
   "metadata": {},
   "source": [
    "# Example use case of PynPoint-IFS"
   ]
  },
  {
   "cell_type": "raw",
   "id": "3a67fbd1-7713-4cdb-ae78-10ec91bd5d71",
   "metadata": {},
   "source": [
    "This example notebook will show you how to continue the reduction of the HR8799e data from the ERIS/SPIFFIER GTO program described in Hayoz et al. 2025/6 (in preparation). First, reduce the data using SpyFFIER (https://github.com/JHayoz/SpyFFIER) and follow the instructions described in the example notebook. Then, continue here.\n",
    "If you use PynPoint-IFS in your work, please cite Hayoz et al. 2025 (https://ui.adsabs.harvard.edu/abs/2025A%26A...698A..87H/abstract) and Hayoz et al. 2025b or 2026 (in preparation)."
   ]
  },
  {
   "cell_type": "markdown",
   "id": "39639886-4716-4cd0-93e6-230711459345",
   "metadata": {},
   "source": [
    "# Import statements and pipeline initialisation"
   ]
  },
  {
   "cell_type": "code",
   "execution_count": null,
   "id": "bb2b557d-5760-4c20-8015-d8d837cb28f6",
   "metadata": {},
   "outputs": [],
   "source": [
    "import os\n",
    "os.environ['OMP_NUM_THREADS'] = '30'\n",
    "import numpy as np\n",
    "import pynpoint as pp\n",
    "from tqdm import tqdm\n",
    "import matplotlib.pyplot as plt\n",
    "from astropy.modeling import models, fitting\n",
    "import pandas as pd\n",
    "from astropy.io import fits\n",
    "from glob import glob\n",
    "import sys\n",
    "from pathlib import Path\n",
    "from PyAstronomy.pyasl import crosscorrRV,dopplerShift\n",
    "from scipy.ndimage import gaussian_filter\n",
    "from scipy.signal import medfilt,savgol_filter\n",
    "import spectres\n",
    "from skimage.registration import phase_cross_correlation\n",
    "from datetime import datetime,timedelta\n",
    "from mpl_toolkits.axes_grid1 import make_axes_locatable\n",
    "from photutils.centroids import centroid_quadratic "
   ]
  },
  {
   "cell_type": "code",
   "execution_count": null,
   "id": "23e816c5-9cca-411a-a19c-de93f4f0f1fe",
   "metadata": {},
   "outputs": [],
   "source": [
    "from pynpoint_ifs.ifuframeselection import SelectWavelengthRangeModule,AutomaticallySelectWavelengthRangeModule\n",
    "from pynpoint_ifs.ifubadpixel import NanFilterModule,OutlierCorrectionModule\n",
    "from pynpoint_ifs.ifucentering import IFUAlignCubesModule,FitCenterCustomModule\n",
    "from pynpoint_ifs.ifupsfpreparation import IFUStellarSpectrumModule,IFUWavelengthCalibrationModule,IFUWavelengthCorrectionModule,IFUSDIpreparationModule,IFUTelluricsWavelengthCalibrationModule\n",
    "from pynpoint_ifs.ifupsfsubtraction import IFUContinuumRemovalModule,IFUPSFSubtractionModuleCugno,IFUPCAPSFSubtractionModule,IFUPCAModule\n",
    "from pynpoint_ifs.ifuresizing import FoldingModule,FinerGridInterpolationModule\n",
    "from pynpoint_ifs.ifustacksubset import CrossCorrelationPreparationModule,StackCubesModule,ApertureCombineModule\n",
    "from pynpoint_ifs.ifucrosscorrelation import CrossCorrelationModule\n",
    "from pynpoint_ifs.ifuresizing import UnfoldingModule,UpSampleModule\n",
    "from pynpoint_ifs.ifufitswriting import IFUFitsWritingModule\n",
    "from pynpoint_ifs.ifufluxcalibration import IFUSpectrumExtractionModule\n",
    "from pynpoint_ifs.ifufakeplanetinjection import IFUFakePlanetInjectionModule\n",
    "from pynpoint_ifs.ifuprocessingfunctions import do_PCA_sub,do_derotate_shift\n",
    "from pynpoint_ifs.ifuprocessing import IFUPostProcessingModule\n",
    "from pynpoint_ifs.ifu_utils import *\n",
    "from pynpoint_ifs.ifu_utils_hidden import *\n",
    "from pynpoint_ifs.ifu_plotting import *\n",
    "from pynpoint_ifs.ifu_pipeline import run_preprocessing"
   ]
  },
  {
   "cell_type": "code",
   "execution_count": null,
   "id": "6f19de47-31b5-49d4-9222-206830d1693b",
   "metadata": {},
   "outputs": [],
   "source": [
    "# where the data is stored\n",
    "data_dir = 'absolute/path/to/data/folder/'\n",
    "# define where to save the data produced by the steps of the pipeline\n",
    "working_data = 'absolute/path/to/working/folder/'\n",
    "# path to where the plots and finished products should be saved\n",
    "save_dir = 'absolute/path/to/save/folder/'"
   ]
  },
  {
   "cell_type": "code",
   "execution_count": null,
   "id": "544f1a29-fa3f-4366-9812-87548ac4a757",
   "metadata": {},
   "outputs": [],
   "source": [
    "pipeline = pp.Pypeline(working_place_in=working_data,\n",
    "                    input_place_in=data_dir,\n",
    "                    output_place_in=data_dir)"
   ]
  },
  {
   "cell_type": "code",
   "execution_count": null,
   "id": "05b74e97-5a51-406c-937b-35bdb07f832a",
   "metadata": {},
   "outputs": [],
   "source": [
    "# change the configuration file to the right pixel scale, nb of CPUs, and memory size\n",
    "# change_config(pipeline,pixscale=0.0125,cpu=20,memory=750)"
   ]
  },
  {
   "cell_type": "code",
   "execution_count": null,
   "id": "81e753b1-b0ee-41f9-a867-2a76af97a836",
   "metadata": {},
   "outputs": [],
   "source": [
    "# these are outputs from SpyFFIER\n",
    "# here newxcorr_spline_fov-linear_product_g_* correspond to groups of SKY-OBJECT frames\n",
    "planet_files = list(map(str,Path(data_dir).glob('science_ifu_jitter/wvlcorr_product_g_*/eris_ifu_jitter_dar_cube_*_corr_wavemap_*fits')))"
   ]
  },
  {
   "cell_type": "code",
   "execution_count": null,
   "id": "0d5cea5d-07b2-457d-9888-1e9ae464963b",
   "metadata": {},
   "outputs": [],
   "source": [
    "sequence_files = {\n",
    "    'planet':planet_files\n",
    "}"
   ]
  },
  {
   "cell_type": "code",
   "execution_count": null,
   "id": "8bcc7523-1633-4f3b-b6ac-2b05343cf334",
   "metadata": {},
   "outputs": [],
   "source": [
    "which = 'planet'"
   ]
  },
  {
   "cell_type": "raw",
   "id": "b4db6d3b-11c1-4549-99b0-14aa852f70e2",
   "metadata": {},
   "source": []
  },
  {
   "cell_type": "markdown",
   "id": "058dacda-8518-4b26-b6e2-0e274222a0cb",
   "metadata": {},
   "source": [
    "# Preprocessing steps"
   ]
  },
  {
   "cell_type": "code",
   "execution_count": null,
   "id": "15fabdb6-fb9c-492a-86e3-0795ae9430a8",
   "metadata": {},
   "outputs": [],
   "source": [
    "run_preprocessing(pipeline,sequence_files,run_which=which,bad_pixel_corr=False,crop = 2,outlier_sigma=30)"
   ]
  },
  {
   "cell_type": "code",
   "execution_count": null,
   "id": "78c28c70-8a2c-4da7-b942-8dd893cce979",
   "metadata": {},
   "outputs": [],
   "source": [
    "pipeline.set_attribute(data_tag = 'raw_'+ which + '_wvlsel_nancorr_crop_outlier',attr_name='PARANG',attr_value = np.zeros((lencube)),static=False)"
   ]
  },
  {
   "cell_type": "markdown",
   "id": "a94d0c81-0066-432a-8003-f04b5e531caf",
   "metadata": {},
   "source": [
    "# Measure centroid of the star"
   ]
  },
  {
   "cell_type": "code",
   "execution_count": null,
   "id": "2226bca8-45af-4ce1-926b-5abead9a44e2",
   "metadata": {},
   "outputs": [],
   "source": [
    "datacube,wavelength = get_cubes(pipeline,'raw_'+which+'_wvlsel_nancorr_crop_outlier','wavelength_'+which)"
   ]
  },
  {
   "cell_type": "code",
   "execution_count": null,
   "id": "3456150a-8d67-4524-b87a-27b90cf029cf",
   "metadata": {},
   "outputs": [],
   "source": [
    "image_cube = np.mean(datacube,axis=1)"
   ]
  },
  {
   "cell_type": "code",
   "execution_count": null,
   "id": "4a75a05c-e949-4a50-b5ec-466b6fc427b7",
   "metadata": {
    "scrolled": true
   },
   "outputs": [],
   "source": [
    "centroid_pointsource(pipeline,image_cube,filter_sigma=1,plot=True,save=True,save_fit_tag=which + '_cubeposition')"
   ]
  },
  {
   "cell_type": "code",
   "execution_count": null,
   "id": "f3fc1d14-80de-4e5e-b389-960d292d0752",
   "metadata": {},
   "outputs": [],
   "source": [
    "data = pipeline.get_data(which + '_cubeposition')"
   ]
  },
  {
   "cell_type": "code",
   "execution_count": null,
   "id": "be156efd-7b53-4639-b8cb-3d08766c068c",
   "metadata": {},
   "outputs": [],
   "source": [
    "planet_position = np.array([-225.199,331.019]) # approximate position of the planet relative to the star"
   ]
  },
  {
   "cell_type": "code",
   "execution_count": null,
   "id": "0ae9658c-b7d5-4a86-8e70-c6ee56132c92",
   "metadata": {},
   "outputs": [],
   "source": [
    "pixscale=pipeline.get_attribute('raw_'+which+'_wvlsel_nancorr_crop_outlier',attr_name='PIXSCALE')"
   ]
  },
  {
   "cell_type": "code",
   "execution_count": null,
   "id": "8aebf721-94bb-4157-9d12-43e1c4e825f7",
   "metadata": {},
   "outputs": [],
   "source": [
    "planet_position_pix = np.array([-planet_position[0],planet_position[1]])/1e3/pixscale"
   ]
  },
  {
   "cell_type": "code",
   "execution_count": null,
   "id": "1298aecb-d0d4-4860-abd9-3a9220d9eb7e",
   "metadata": {},
   "outputs": [],
   "source": [
    "lencube,lenwvl,lenx,leny=np.shape(datacube)"
   ]
  },
  {
   "cell_type": "code",
   "execution_count": null,
   "id": "6d172929-5a8f-4e3c-afc0-253a7793d096",
   "metadata": {},
   "outputs": [],
   "source": [
    "data = pipeline.get_data(which + '_cubeposition')\n",
    "plt.plot(data[:,0])\n",
    "plt.plot(data[:,2])\n",
    "plt.plot(data[:,0] + planet_position_pix[0])\n",
    "plt.plot(data[:,2] + planet_position_pix[1])\n",
    "plt.axhline(lenx/2 - 1)\n",
    "plt.axhline(-(lenx/2 - 1))"
   ]
  },
  {
   "cell_type": "markdown",
   "id": "ee4871bd-f28e-47ce-9185-c5fcf7765c64",
   "metadata": {},
   "source": [
    "# Frame selection"
   ]
  },
  {
   "cell_type": "code",
   "execution_count": null,
   "id": "8f5a8690-0f78-497f-ae0f-7e3901463e9b",
   "metadata": {},
   "outputs": [],
   "source": [
    "remove_mask = np.logical_or(data[:,0] + planet_position_pix[0] > lenx/2 - 1,data[:,2] + planet_position_pix[1] > leny/2 - 1)\n",
    "remove_frames = np.arange(len(data))[remove_mask]\n",
    "remove_frames_inds = np.array([np.arange(lenwvl*i,lenwvl*(i+1)) for i in remove_frames]).flatten()"
   ]
  },
  {
   "cell_type": "code",
   "execution_count": null,
   "id": "7b771702-f34e-4ada-b4e9-9c3b5e44d480",
   "metadata": {},
   "outputs": [],
   "source": [
    "module = pp.RemoveFramesModule(\n",
    "    name_in='remove_outofFOV', \n",
    "    image_in_tag='raw_'+ which + '_wvlsel_nancorr_crop_outlier', \n",
    "    selected_out_tag='raw_'+ which + '_wvlsel_nancorr_crop_outlier_sel', \n",
    "    removed_out_tag = 'None', \n",
    "    frames = remove_frames_inds)\n",
    "pipeline.add_module(module)\n",
    "pipeline.run_module('remove_outofFOV')\n",
    "\n",
    "nframes = pipeline.get_attribute('raw_'+ which + '_wvlsel_nancorr_crop_outlier',attr_name='NFRAMES',static=False)\n",
    "new_nframes = nframes[~np.isin(np.arange(len(nframes)), remove_frames)]\n",
    "pipeline.set_attribute(data_tag = 'raw_'+ which + '_wvlsel_nancorr_crop_outlier_sel',attr_name='NFRAMES',attr_value = new_nframes,static=False)\n",
    "files = pipeline.get_attribute('raw_'+ which + '_wvlsel_nancorr_crop_outlier',attr_name='FILES',static=False)\n",
    "new_files = files[~np.isin(np.arange(len(files)), remove_frames)]\n",
    "pipeline.set_attribute(data_tag = 'raw_'+ which + '_wvlsel_nancorr_crop_outlier_sel',attr_name='FILES',attr_value = new_files,static=False)"
   ]
  },
  {
   "cell_type": "code",
   "execution_count": null,
   "id": "cc563d23-feb5-45fc-9711-cacdad752917",
   "metadata": {},
   "outputs": [],
   "source": [
    "datacube,wavelength = get_cubes(pipeline,'raw_'+which+'_wvlsel_nancorr_crop_outlier_sel','wavelength_'+which)"
   ]
  },
  {
   "cell_type": "code",
   "execution_count": null,
   "id": "0c796312-f22c-4f22-974d-32803be1dca8",
   "metadata": {
    "scrolled": true
   },
   "outputs": [],
   "source": [
    "image_cube = np.mean(datacube,axis=1)\n",
    "centroid_pointsource(pipeline,image_cube,filter_sigma=1,plot=True,save=True,save_fit_tag=which + '_sel_cubeposition')"
   ]
  },
  {
   "cell_type": "markdown",
   "id": "8b07c30c-e917-4020-9ed2-c2be1b435bc9",
   "metadata": {},
   "source": [
    "# Test PSF subtraction with spectral PCA using different numbers of PCs"
   ]
  },
  {
   "cell_type": "code",
   "execution_count": null,
   "id": "ca0fb141-b547-48c4-84d0-a7aa996ca7e4",
   "metadata": {},
   "outputs": [],
   "source": [
    "pca_numbers = np.logspace(np.log10(40),np.log10(500),5,dtype=int)"
   ]
  },
  {
   "cell_type": "code",
   "execution_count": null,
   "id": "0dbf2dfd-b7c1-4080-b5d0-bbad9572fe94",
   "metadata": {},
   "outputs": [],
   "source": [
    "template_path = '/home/ipa/quanz/shared/eris/P112_atmospheres/planet_templates/grid_temperature/templates_T_1200/'\n",
    "wavelength = pipeline.get_data('wavelength_' + which)\n",
    "wlen_mol,flux_mol = load_custom_templates(glob(template_path + '*csv'),wavelength,sigma=20)\n",
    "molecules = list(wlen_mol.keys())\n",
    "rv_range,drv=300,1"
   ]
  },
  {
   "cell_type": "code",
   "execution_count": null,
   "id": "7dd3e24c-01d2-4e4b-88f0-bc6eecda4d6f",
   "metadata": {},
   "outputs": [],
   "source": [
    "molecules = ['H2O','CO','CO2','CH4','chem_equ']"
   ]
  },
  {
   "cell_type": "code",
   "execution_count": null,
   "id": "5ec5fa37-c9d3-4d12-9682-557ee642963c",
   "metadata": {},
   "outputs": [],
   "source": [
    "for pca_i,pca in enumerate(pca_numbers):\n",
    "    # PCA\n",
    "    module = IFUPCAPSFSubtractionModule(\n",
    "        name_in = f'PCA_sub_{pca}',\n",
    "        image_in_tag = 'raw_'+ which + '_wvlsel_nancorr_crop_outlier',\n",
    "        wv_in_tag = 'wavelength_' + which,\n",
    "        image_out_tag = 'HRSDI_PCA',\n",
    "        pca_number = int(pca),\n",
    "        method='single'\n",
    "        )\n",
    "    pipeline.add_module(module)\n",
    "    pipeline.run_module(f'PCA_sub_{pca}')\n",
    "    # frame combining\n",
    "    module = CrossCorrelationPreparationModule(\n",
    "        name_in=f'combine_HRSDI_PCA_{pca}',\n",
    "        image_in_tag='HRSDI_PCA',\n",
    "        shift_cubes_in_tag=which + '_cubeposition_relative',\n",
    "        image_out_tag='HRSDI_PCA_prep',\n",
    "        mask_out_tag='mask',\n",
    "        shift=True,\n",
    "        rotate=False,\n",
    "        stack=True)\n",
    "    pipeline.add_module(module)\n",
    "    pipeline.run_module(f'combine_HRSDI_PCA_{pca}')\n",
    "    # cross-correlation\n",
    "    for mol_i in range(len(molecules)):\n",
    "        molec = molecules[mol_i]\n",
    "        module = CrossCorrelationModule(\n",
    "            name_in = f'combine_HRSDI_PCA_{pca}_{molec}',\n",
    "            RV = rv_range,\n",
    "            dRV = drv,\n",
    "            range_CCF_RV = 100.,\n",
    "            data_wv_in_tag = 'wavelength_' + which,\n",
    "            model_wv = wlen_mol[molec],\n",
    "            model_abs = flux_mol[molec],\n",
    "            image_in_tag = 'HRSDI_PCA_prep',\n",
    "            SNR_cube_out_tag = f'snr_{pca}_{molec}_' + which,\n",
    "            CC_cube_out_tag = f'CC_{pca}_{molec}_' + which,\n",
    "            RV_data_out_tag = f'RV_{pca}_{molec}_' + which,\n",
    "            cpus=20\n",
    "            )\n",
    "        pipeline.add_module(module)\n",
    "        pipeline.run_module(f'combine_HRSDI_PCA_{pca}_{molec}')"
   ]
  },
  {
   "cell_type": "code",
   "execution_count": null,
   "id": "6d5bce58-4a6e-4403-b14e-8278d8d93190",
   "metadata": {},
   "outputs": [],
   "source": [
    "rv = np.arange(-rv_range,rv_range+0.5*drv,drv)\n",
    "rv_planet = 0\n",
    "col_nb = len(molecules)+1\n",
    "combined_cc = {}\n",
    "combined_snr = {}\n",
    "for pca_i,pca in enumerate(pca_numbers):\n",
    "    fig,axes = plt.subplots(figsize=(3*(len(molecules)+1),5),ncols=col_nb)\n",
    "    cc_mol={}\n",
    "    for mol_i in range(len(molecules)):\n",
    "        molec = molecules[mol_i]\n",
    "        cc_mol[molec] = pipeline.get_data(f'CC_{pca}_{molec}_' + which)[0]\n",
    "        # snr = snr_map(rv,cc_mol[molec],signal_range=(-20,20),std_interval = 100)\n",
    "        # snr = pipeline.get_data(f'snr_{pca}_{molec}')[0]\n",
    "        snr = cc_mol[molec][len(rv)//2]\n",
    "        # smooth = gaussian_filter(snr,0.75)\n",
    "        axes[mol_i].imshow(snr,origin='lower')\n",
    "    CC_tot = np.product([cc_mol[key] for key in molecules],axis=0)\n",
    "    # snr_from_CC = snr_map(rv,CC_tot,signal_range=(-20,20),std_interval = 100)\n",
    "    snr_from_CC = CC_tot[len(rv)//2 + int(rv_planet/drv)]\n",
    "    combined_cc[pca] = CC_tot\n",
    "    combined_snr[pca] = snr_from_CC\n",
    "    # smooth = gaussian_filter(snr_from_CC,0.75)\n",
    "    axes[col_nb-1].imshow(snr_from_CC,origin='lower')\n",
    "    for i in range(col_nb):\n",
    "        if i < len(molecules):\n",
    "            mol_title = molecules[i]\n",
    "        else:\n",
    "            mol_title = 'all'\n",
    "        axes[i].set_title('PCA: %i, Mol: %s' % (pca,mol_title))\n",
    "        axes[i].scatter(x=39,y=44,color='w',s=2)\n",
    "        # axes[i].scatter(x=lenx/2 + mean_pos_planet[0], y= lenx/2 + mean_pos_planet[1],s=1,color='r',marker='x')\n",
    "        # axes[i].scatter(x= lenx/2  + mean_pos_planet[0] - planet_pos_px[0], y= lenx/2 + mean_pos_planet[1] - planet_pos_px[1],s=50,color='orange',marker='*')\n",
    "    plt.show()"
   ]
  },
  {
   "cell_type": "markdown",
   "id": "77f8b911-8a7c-4c52-b58e-473eac9871d1",
   "metadata": {},
   "source": [
    "# Select the nb of PCs and continue"
   ]
  },
  {
   "cell_type": "code",
   "execution_count": null,
   "id": "6caf77fb-a666-4ea8-9e32-cd11b0d0c892",
   "metadata": {},
   "outputs": [],
   "source": [
    "pca = 250"
   ]
  },
  {
   "cell_type": "code",
   "execution_count": null,
   "id": "77d33411-08c7-4bba-99a1-9f98e3610d5f",
   "metadata": {},
   "outputs": [],
   "source": [
    "module = IFUPCAPSFSubtractionModule(\n",
    "    name_in = f'PCA_sub_{pca}',\n",
    "    image_in_tag = 'raw_'+ which + '_wvlsel_nancorr_crop_outlier_sel',\n",
    "    wv_in_tag = 'wavelength_' + which,\n",
    "    image_out_tag = f'HRSDI_PCA_{pca}',\n",
    "    pca_number = int(pca),\n",
    "    method='single'\n",
    "    )\n",
    "pipeline.add_module(module)\n",
    "pipeline.run_module(f'PCA_sub_{pca}')"
   ]
  },
  {
   "cell_type": "code",
   "execution_count": null,
   "id": "e57c7622-a0ff-4573-9d02-15ac9b91276c",
   "metadata": {},
   "outputs": [],
   "source": [
    "# frame combining\n",
    "module = CrossCorrelationPreparationModule(\n",
    "    name_in=f'combine_HRSDI_PCA_{pca}',\n",
    "    image_in_tag=f'HRSDI_PCA_{pca}',\n",
    "    shift_cubes_in_tag=which + '_sel_cubeposition_relative',\n",
    "    image_out_tag=f'HRSDI_PCA_{pca}_prep',\n",
    "    mask_out_tag='mask',\n",
    "    shift=True,\n",
    "    rotate=False,\n",
    "    stack=True)\n",
    "pipeline.add_module(module)\n",
    "pipeline.run_module(f'combine_HRSDI_PCA_{pca}')"
   ]
  },
  {
   "cell_type": "code",
   "execution_count": null,
   "id": "1af0bff2-b37f-4eb3-8f25-6eb3eb8f0be0",
   "metadata": {},
   "outputs": [],
   "source": [
    "module = ApertureCombineModule(\n",
    "    name_in = 'aperture_combine',\n",
    "    image_in_tag = f'HRSDI_PCA_{pca}_prep',\n",
    "    image_out_tag = f'HRSDI_PCA_{pca}_prep_apertures',\n",
    "    aperture_radius = 1.7,\n",
    "    cpus=10\n",
    ")\n",
    "pipeline.add_module(module)\n",
    "pipeline.run_module('aperture_combine')"
   ]
  },
  {
   "cell_type": "code",
   "execution_count": null,
   "id": "98979284-731a-45f0-be5a-f45aaf7d5f5d",
   "metadata": {},
   "outputs": [],
   "source": [
    "template_path = '/home/ipa/quanz/shared/eris/P112_atmospheres/planet_templates/grid_temperature/templates_T_1200/'\n",
    "wavelength = pipeline.get_data('wavelength_' + which)\n",
    "wlen_mol,flux_mol = load_custom_templates(glob(template_path + '*csv'),wavelength,sigma=20)\n",
    "molecules = list(wlen_mol.keys())\n",
    "rv_range,drv=300,1"
   ]
  },
  {
   "cell_type": "code",
   "execution_count": null,
   "id": "c01897b2-1df6-4318-8912-1213cb2b11fb",
   "metadata": {},
   "outputs": [],
   "source": [
    "molecules = list(wlen_mol.keys())"
   ]
  },
  {
   "cell_type": "code",
   "execution_count": null,
   "id": "3069f9ce-ebdc-433b-97c6-8e70b5de6f87",
   "metadata": {
    "scrolled": true
   },
   "outputs": [],
   "source": [
    "# cross-correlation\n",
    "for mol_i in range(len(molecules)):\n",
    "    molec = molecules[mol_i]\n",
    "    module = CrossCorrelationModule(\n",
    "        name_in = f'combine_HRSDI_PCA_apertures_{pca}_{molec}',\n",
    "        RV = rv_range,\n",
    "        dRV = drv,\n",
    "        range_CCF_RV = 100.,\n",
    "        data_wv_in_tag = 'wavelength_' + which,\n",
    "        model_wv = wlen_mol[molec],\n",
    "        model_abs = flux_mol[molec],\n",
    "        image_in_tag = f'HRSDI_PCA_{pca}_prep_apertures',\n",
    "        SNR_cube_out_tag = f'snr_apertures_{pca}_{molec}',\n",
    "        CC_cube_out_tag = f'CC_apertures_{pca}_{molec}',\n",
    "        RV_data_out_tag = f'RV_apertures_{pca}_{molec}',\n",
    "        cpus=20\n",
    "        )\n",
    "    pipeline.add_module(module)\n",
    "    pipeline.run_module(f'combine_HRSDI_PCA_apertures_{pca}_{molec}')"
   ]
  },
  {
   "cell_type": "code",
   "execution_count": null,
   "id": "686ee850-4d4a-4f21-bc45-346dd1e544a4",
   "metadata": {},
   "outputs": [],
   "source": [
    "rv = np.arange(-rv_range,rv_range+0.5*drv,drv)\n",
    "rv_planet = 0\n",
    "col_nb = len(molecules)+1\n",
    "fig,axes = plt.subplots(figsize=(3*(len(molecules)+1),5),ncols=col_nb)\n",
    "cc_mol={}\n",
    "for mol_i in range(len(molecules)):\n",
    "    molec = molecules[mol_i]\n",
    "    cc_mol[molec] = pipeline.get_data(f'CC_apertures_{pca}_{molec}')[0]\n",
    "    # snr = snr_map(rv,cc_mol[molec],signal_range=(-20,20),std_interval = 100)\n",
    "    # snr = pipeline.get_data(f'snr_{pca}_{molec}')[0]\n",
    "    snr = cc_mol[molec][len(rv)//2]\n",
    "    # smooth = gaussian_filter(snr,0.75)\n",
    "    axes[mol_i].imshow(snr,origin='lower')\n",
    "CC_tot = np.product([cc_mol[key] for key in molecules],axis=0)\n",
    "# snr_from_CC = snr_map(rv,CC_tot,signal_range=(-20,20),std_interval = 100)\n",
    "snr_from_CC = CC_tot[len(rv)//2 + int(rv_planet/drv)]\n",
    "combined_cc = {}\n",
    "combined_snr = {}\n",
    "combined_cc[pca] = CC_tot\n",
    "combined_snr[pca] = snr_from_CC\n",
    "# smooth = gaussian_filter(snr_from_CC,0.75)\n",
    "axes[col_nb-1].imshow(snr_from_CC,origin='lower')\n",
    "for i in range(col_nb):\n",
    "    if i < len(molecules):\n",
    "        mol_title = molecules[i]\n",
    "    else:\n",
    "        mol_title = 'all'\n",
    "    axes[i].set_title('PCA: %i, Mol: %s' % (pca,mol_title))\n",
    "    axes[i].scatter(x=39,y=44,color='w',s=2)\n",
    "    # axes[i].scatter(x=lenx/2 + mean_pos_planet[0], y= lenx/2 + mean_pos_planet[1],s=1,color='r',marker='x')\n",
    "    # axes[i].scatter(x= lenx/2  + mean_pos_planet[0] - planet_pos_px[0], y= lenx/2 + mean_pos_planet[1] - planet_pos_px[1],s=50,color='orange',marker='*')\n",
    "plt.show()"
   ]
  },
  {
   "cell_type": "markdown",
   "id": "5cfd454d-3f08-4c25-830b-a990214397b0",
   "metadata": {},
   "source": [
    "# Fit position of planet in molecular maps"
   ]
  },
  {
   "cell_type": "code",
   "execution_count": null,
   "id": "34c0638f-10a4-4a85-bad4-28c4366c300c",
   "metadata": {},
   "outputs": [],
   "source": [
    "molecules_considered = ['H2O','CO','H2O+CO','chem_equ']"
   ]
  },
  {
   "cell_type": "code",
   "execution_count": null,
   "id": "7b117620-ba15-4563-80e1-986e39f97b4e",
   "metadata": {
    "scrolled": true
   },
   "outputs": [],
   "source": [
    "planet_position_mol = {}\n",
    "for mol_i,mol in enumerate(molecules_considered):\n",
    "    molec = molecules_considered[mol_i]\n",
    "    print(f'CC_apertures_{pca}_{molec}')\n",
    "    ccf = pipeline.get_data(f'CC_apertures_{pca}_{molec}')[0,:]\n",
    "    snr = ccf[len(rv)//2] # snr_map(rv,ccf,signal_range=(-20,20),std_interval = 100)\n",
    "    # snr = pipeline.get_data(f'snr_apertures_{pca}_{mol}')[0,crop:-crop,crop:-crop]\n",
    "    # smooth = gaussian_filter(snr,0.75)\n",
    "    mask = np.isnan(snr)\n",
    "    image = snr\n",
    "    lenx,leny=np.shape(image)\n",
    "    image_f = image-np.nanmedian(image)\n",
    "    \n",
    "    x1, y1 = centroid_quadratic(image_f,mask=mask)\n",
    "    planet_position_mol[mol] = [x1 - (lenx-1)/2,y1 - (leny-1)/2]\n",
    "    \n",
    "    plt.figure()\n",
    "    plt.imshow(snr,origin='lower')\n",
    "    plt.scatter(x=x1,y=y1)\n",
    "    plt.title(mol)\n",
    "    # plt.colorbar()\n",
    "    plt.show()\n",
    "    \n",
    "    plt.figure()\n",
    "    plt.plot(rv,ccf[:,int(y1),int(x1)])\n",
    "    plt.show()"
   ]
  },
  {
   "cell_type": "code",
   "execution_count": null,
   "id": "968191b3-0e07-4cd4-b25a-9aa121525daa",
   "metadata": {},
   "outputs": [],
   "source": [
    "planet_position = np.mean([planet_position_mol[mol] for mol in planet_position_mol],axis=0)"
   ]
  },
  {
   "cell_type": "code",
   "execution_count": null,
   "id": "505e3225-9c95-461c-bd84-698c3e24aadf",
   "metadata": {},
   "outputs": [],
   "source": [
    "fitparams = np.zeros((1,14))\n",
    "fitparams[0,0] = planet_position[0]\n",
    "fitparams[0,2] = planet_position[1]"
   ]
  },
  {
   "cell_type": "code",
   "execution_count": null,
   "id": "86a0ee70-1910-4722-aacf-ecf12e9ae848",
   "metadata": {},
   "outputs": [],
   "source": [
    "out_port = pp.core.dataio.OutputPort('planet_position', data_storage_in=pipeline.m_data_storage)\n",
    "out_port.set_all(fitparams)\n",
    "out_port.close_port()"
   ]
  },
  {
   "cell_type": "code",
   "execution_count": null,
   "id": "f4d10913-9d1e-4316-bb38-af07143e788e",
   "metadata": {},
   "outputs": [],
   "source": [
    "rel_pos = pipeline.get_data(which + '_sel_cubeposition_relative')"
   ]
  },
  {
   "cell_type": "code",
   "execution_count": null,
   "id": "e6326c59-16ea-4679-b38b-fad076ad0e3b",
   "metadata": {},
   "outputs": [],
   "source": [
    "absolute_position_planet = fitparams + rel_pos"
   ]
  },
  {
   "cell_type": "code",
   "execution_count": null,
   "id": "e9a63e0b-f696-4795-876f-5849e44abef3",
   "metadata": {},
   "outputs": [],
   "source": [
    "out_port = pp.core.dataio.OutputPort('planet_cubeposition_abs', data_storage_in=pipeline.m_data_storage)\n",
    "out_port.set_all(absolute_position_planet)\n",
    "out_port.close_port()"
   ]
  },
  {
   "cell_type": "code",
   "execution_count": null,
   "id": "eb851daa-8514-4ee2-99fe-abf1f3aa5301",
   "metadata": {},
   "outputs": [],
   "source": [
    "planet_position = pipeline.get_data('planet_position')[0,(0,2)]"
   ]
  },
  {
   "cell_type": "code",
   "execution_count": null,
   "id": "c7657e36-564d-466b-8d45-3fdbd4d3829b",
   "metadata": {},
   "outputs": [],
   "source": [
    "rv_axis = pipeline.get_data(f'RV_apertures_{pca}_{molec}')"
   ]
  },
  {
   "cell_type": "code",
   "execution_count": null,
   "id": "804aa695-3934-4d94-aae3-00c3418dc871",
   "metadata": {},
   "outputs": [],
   "source": [
    "for mol_i,mol in enumerate(molecules_considered):\n",
    "    molec = molecules_considered[mol_i]\n",
    "    ccf = pipeline.get_data(f'CC_apertures_{pca}_{molec}')[0]\n",
    "    lenrv,lenx,leny = np.shape(ccf)\n",
    "    planet_pos_det = (planet_position + (lenx-1)/2).astype(int)\n",
    "    std_ccf = np.nanstd(ccf)\n",
    "    ccf_planet = ccf[:,planet_pos_det[1],planet_pos_det[0]]/std_ccf\n",
    "    plt.plot(rv_axis,ccf_planet,label=molec)\n",
    "plt.legend()"
   ]
  },
  {
   "cell_type": "markdown",
   "id": "9f9e5fe3-04e2-4f8d-94b7-15a3ad00eaa2",
   "metadata": {},
   "source": [
    "# Show molecular map"
   ]
  },
  {
   "cell_type": "markdown",
   "id": "49b4bf65-9cf5-4730-9e28-297aba8e7b16",
   "metadata": {},
   "source": [
    "## PSF picture"
   ]
  },
  {
   "cell_type": "code",
   "execution_count": null,
   "id": "a3eb3391-5e28-486f-ad4c-f042e345dc0b",
   "metadata": {},
   "outputs": [],
   "source": [
    "datacubes,wavelength = get_cubes(pipeline,'raw_'+ which + '_wvlsel_nancorr_crop_outlier_sel','wavelength_' + which)"
   ]
  },
  {
   "cell_type": "code",
   "execution_count": null,
   "id": "bac28349-bf48-428a-a697-bcdf43020fbf",
   "metadata": {},
   "outputs": [],
   "source": [
    "lencube,lenwvl,lenx,leny=np.shape(datacubes)"
   ]
  },
  {
   "cell_type": "code",
   "execution_count": null,
   "id": "ab3604a9-34ec-4b70-8178-999a30617866",
   "metadata": {},
   "outputs": [],
   "source": [
    "upscale = 3\n",
    "cubeposition = pipeline.get_data(which + '_sel_cubeposition_relative')[:,(0,2)]"
   ]
  },
  {
   "cell_type": "code",
   "execution_count": null,
   "id": "94abd34c-19a8-4a7e-b00c-a451184ce4aa",
   "metadata": {},
   "outputs": [],
   "source": [
    "shifted_images = nice_psf_image(datacubes,upscale,cubeposition)"
   ]
  },
  {
   "cell_type": "code",
   "execution_count": null,
   "id": "f5b9e8a2-c8cb-4799-8b85-c14e7ea4df9b",
   "metadata": {},
   "outputs": [],
   "source": [
    "image_mean = np.nanmean(shifted_images[:],axis=0)\n",
    "img_log = np.log10(image_mean)"
   ]
  },
  {
   "cell_type": "code",
   "execution_count": null,
   "id": "7f7e474e-4cbb-49c6-8a19-c2a4acece63f",
   "metadata": {},
   "outputs": [],
   "source": [
    "add_term=0"
   ]
  },
  {
   "cell_type": "code",
   "execution_count": null,
   "id": "59d58390-f1f7-4b55-8016-15ca7808f2e5",
   "metadata": {},
   "outputs": [],
   "source": [
    "plt.imshow(img_log,vmin=np.percentile(img_log,5),vmax=np.percentile(img_log,99.999),cmap='afmhot',origin='lower')"
   ]
  },
  {
   "cell_type": "markdown",
   "id": "411c0fce-dbd0-4a17-b4e6-be095172adbc",
   "metadata": {},
   "source": [
    "## Molecular maps"
   ]
  },
  {
   "cell_type": "code",
   "execution_count": null,
   "id": "ae6db3af-aea2-42ac-b409-9190bcd7c1fd",
   "metadata": {},
   "outputs": [],
   "source": [
    "fontsize=12\n",
    "crop_x = 15\n",
    "crop_y = 10"
   ]
  },
  {
   "cell_type": "code",
   "execution_count": null,
   "id": "1b51622e-f246-4713-9d01-d6346a094d08",
   "metadata": {},
   "outputs": [],
   "source": [
    "molecules_considered = ['H2O', 'CO', 'CH4', 'CO2', 'chem_equ','CO36','HCN','NH3','FeH','TiO','VO']\n",
    "molecules_names = {mol:nice_name(mol) for mol in molecules_considered}"
   ]
  },
  {
   "cell_type": "code",
   "execution_count": null,
   "id": "8c2d3d67-21a1-4332-8cff-df7823b3f933",
   "metadata": {},
   "outputs": [],
   "source": [
    "wavelength = pipeline.get_data('wavelength_' + which)\n",
    "lod = np.mean(wavelength)*1e-6/8.2/np.pi*180*60*60\n",
    "pixscale = pipeline.get_attribute('raw_'+ which + '_wvlsel_nancorr_crop_outlier_sel',attr_name='PIXSCALE')\n",
    "lod_px = lod/pixscale"
   ]
  },
  {
   "cell_type": "code",
   "execution_count": null,
   "id": "1c66c8d2-8f56-4df6-abb7-8932be841da7",
   "metadata": {},
   "outputs": [],
   "source": [
    "circle_width = lod_px\n",
    "width_annulus = lod_px"
   ]
  },
  {
   "cell_type": "code",
   "execution_count": null,
   "id": "bbae57a1-4236-4175-971c-c9ed45609df2",
   "metadata": {},
   "outputs": [],
   "source": [
    "# position of planet and star in the pictures\n",
    "planet_position = pipeline.get_data('planet_position')[0,(0,2)]\n",
    "fitparams_star = pipeline.get_data(which + '_sel_cubeposition')[0,(0,2)]\n",
    "fitparams_star_rel = pipeline.get_data(which + '_sel_cubeposition_relative')[0,(0,2)]\n",
    "star_pos_mean = fitparams_star-fitparams_star_rel"
   ]
  },
  {
   "cell_type": "code",
   "execution_count": null,
   "id": "dc228aa9-c73a-483b-9756-14fbae718891",
   "metadata": {},
   "outputs": [],
   "source": [
    "# rv of the detected planet\n",
    "rv_planet=0"
   ]
  },
  {
   "cell_type": "code",
   "execution_count": null,
   "id": "b4ed5a20-2093-4e92-b4d5-67f16c65e434",
   "metadata": {},
   "outputs": [],
   "source": [
    "ncols = 3\n",
    "nrows=int(np.ceil((len(molecules_considered)+1)/ncols))\n",
    "fig,axes = plt.subplots(figsize=(2.5*ncols,2.2*nrows),ncols=ncols,nrows=nrows)\n",
    "\n",
    "# PSF\n",
    "image_mean = np.nanmean(shifted_images,axis=0)\n",
    "star_pos = np.array([upscale*((lenx)/2  + star_pos_mean[0]), upscale*((lenx)/2 + star_pos_mean[1])])\n",
    "planet_pos = np.array([upscale*((lenx-1)/2 + planet_position[0]), upscale*((lenx-1)/2 + planet_position[1])])\n",
    "ticks_x_labels,tick_x_pos,ticks_x_labels_minor,tick_x_pos_minor,ticks_y_labels,tick_y_pos,ticks_y_labels_minor,tick_y_pos_minor=get_ticks(image_mean,star_pos,pixscale=pixscale/3,tick_sep=0.1,minor_tick_sep = 0.05)\n",
    "tick_params = [ticks_x_labels,tick_x_pos,ticks_x_labels_minor,tick_x_pos_minor,ticks_y_labels,tick_y_pos,ticks_y_labels_minor,tick_y_pos_minor]\n",
    "make_PSF_plot(ax=axes[0,0],image=image_mean,crop=0,tick_params = tick_params,fontsize=fontsize,star_pos = star_pos,title='Intensity')\n",
    "plot_circle(axes[0,0],planet_pos,upscale*circle_width)\n",
    "axes[0,0].set_xlim((0,len(image_mean)-crop_x*upscale))\n",
    "axes[0,0].set_ylim((0,len(image_mean)-crop_y*upscale))\n",
    "\n",
    "# molecular maps\n",
    "for mol_i,mol in enumerate(molecules_considered):\n",
    "    cc = pipeline.get_data(f'CC_apertures_{pca}_{mol}')[0]\n",
    "    drv = pipeline.get_data(f'RV_apertures_{pca}_{mol}')\n",
    "    # cc = pipeline.get_data(f'CC_{pca}_{mol}_' + which)[0]\n",
    "    # drv = pipeline.get_data(f'RV_{pca}_{mol}_' + which)\n",
    "    #cc = pipeline.get_data(f'CC_NOapertures_{pca}_{mol}_wb')[0]\n",
    "    #drv = pipeline.get_data(f'RV_NOapertures_{pca}_{mol}_wb')\n",
    "    axi = (mol_i+1) // ncols\n",
    "    axj = (mol_i+1) % ncols\n",
    "    star_pos = np.array([((lenx)/2  + star_pos_mean[0]), ((lenx)/2 + star_pos_mean[1])])\n",
    "    planet_pos = np.array([(lenx-1)/2 + planet_position[0], (lenx-1)/2 + planet_position[1]])\n",
    "    \n",
    "    if mol in ['H2O','CO','H2O+CO','chem_equ']:\n",
    "        snr_ttest,bins_vals,bins_pos,popt,ccf_pl_val = calculate_molmap_metric(cc,drv,planet_pos,star_pos,rv_planet,mask_width=width_annulus,n_bins=20,method='image')\n",
    "\n",
    "    \n",
    "    ticks_x_labels,tick_x_pos,ticks_x_labels_minor,tick_x_pos_minor,ticks_y_labels,tick_y_pos,ticks_y_labels_minor,tick_y_pos_minor=get_ticks(cc[0,:,:],star_pos,pixscale=pixscale,tick_sep=0.1,minor_tick_sep = 0.05)\n",
    "    tick_params = [ticks_x_labels,tick_x_pos,ticks_x_labels_minor,tick_x_pos_minor,ticks_y_labels,tick_y_pos,ticks_y_labels_minor,tick_y_pos_minor]\n",
    "    \n",
    "    make_ccf_plot(axes[axi,axj],cc,drv,rv_planet,planet_pos,star_pos,vmin=-1,vmax=5)\n",
    "    plot_circle(axes[axi,axj],planet_pos,circle_width)\n",
    "    # if axj == 2:\n",
    "    #     axes[axi,axj].yaxis.set_label_position(\"right\")\n",
    "    #     axes[axi,axj].yaxis.tick_right()\n",
    "    make_labels(axes[axi,axj],tick_params=tick_params,img=cc[0],fontsize=fontsize,title=molecules_names[molecules_considered[mol_i]])\n",
    "    if axj == 1 and axi == 0:\n",
    "        axes[axi,axj].set_ylabel('')\n",
    "    \n",
    "    if mol in ['H2O','CO','H2O+CO','chem_equ']:\n",
    "        annotate_snr(axes[axi,axj],planet_pos + np.array([-20,0]),snr_ttest,fontsize=12)\n",
    "    axes[axi,axj].set_xlim((0,len(cc[0])-crop_x))\n",
    "    axes[axi,axj].set_ylim((0,len(cc[0])-crop_y))\n",
    "\n",
    "plt.tight_layout()\n",
    "plt.subplots_adjust(left=0.,\n",
    "                    right=1., \n",
    "                    bottom=0., \n",
    "                    top=1., \n",
    "                    wspace=0.3, \n",
    "                    hspace=0.4)\n",
    "fig.savefig(save_dir + 'HR8799e_detection_molmaps.png',dpi=300,bbox_inches='tight')\n",
    "plt.show()"
   ]
  },
  {
   "cell_type": "markdown",
   "id": "b4624295-558a-4b82-a789-692dc76a211d",
   "metadata": {},
   "source": [
    "## Plot detection metrics"
   ]
  },
  {
   "cell_type": "code",
   "execution_count": null,
   "id": "62fd6bcb-8657-430a-b465-45735562665f",
   "metadata": {},
   "outputs": [],
   "source": [
    "detected_models = ['H2O','CO','chem_equ']"
   ]
  },
  {
   "cell_type": "code",
   "execution_count": null,
   "id": "d455076f-d8c4-4b28-be3b-9fdd682ddb92",
   "metadata": {},
   "outputs": [],
   "source": [
    "# plot for appendix to explain metric\n",
    "crop=1\n",
    "fig,axes=plt.subplots(nrows=2,ncols=len(detected_models),figsize=(2.45*len(detected_models),2.2*2))\n",
    "axes= np.transpose(axes)\n",
    "snr_tests_vals = {}\n",
    "for mol_i,mol in enumerate(detected_models):\n",
    "\n",
    "    cc = pipeline.get_data(f'CC_apertures_{pca}_{mol}')[0]\n",
    "    drv = pipeline.get_data(f'RV_apertures_{pca}_{mol}')\n",
    "    star_pos = np.array([((lenx)/2  + star_pos_mean[0]), ((lenx)/2 + star_pos_mean[1])])\n",
    "    planet_pos = np.array([(lenx-1)/2 + planet_position[0], (lenx-1)/2 + planet_position[1]])\n",
    "    print(planet_pos)\n",
    "    dist_pl_st=np.linalg.norm(planet_pos-star_pos)\n",
    "    if mol in ['H2O','CO','H2O+CO','chem_equ']:\n",
    "        snr_ttest,bins_vals,bins_pos,popt,ccf_pl_val = calculate_molmap_metric(cc,drv,planet_pos,star_pos,rv_planet,mask_width=width_annulus,n_bins=20,crop=crop,method='image')\n",
    "    snr_tests_vals[mol] = snr_ttest\n",
    "    \n",
    "    ticks_x_labels,tick_x_pos,ticks_x_labels_minor,tick_x_pos_minor,ticks_y_labels,tick_y_pos,ticks_y_labels_minor,tick_y_pos_minor=get_ticks(cc[0,:,:],star_pos,pixscale=pixscale,tick_sep=0.1,minor_tick_sep = 0.05)\n",
    "    tick_params = [ticks_x_labels,tick_x_pos,ticks_x_labels_minor,tick_x_pos_minor,ticks_y_labels,tick_y_pos,ticks_y_labels_minor,tick_y_pos_minor]\n",
    "    \n",
    "    make_ccf_plot(axes[mol_i,0],cc,drv,rv_planet,planet_pos,star_pos,vmin=-1,vmax=6)\n",
    "    plot_circle(axes[mol_i,0],planet_pos,width_annulus)\n",
    "    plot_circle(axes[mol_i,0],star_pos,dist_pl_st + dist_pl_st)\n",
    "    plot_circle(axes[mol_i,0],star_pos,dist_pl_st - dist_pl_st)\n",
    "    make_labels(axes[mol_i,0],tick_params=tick_params,img=cc[0],fontsize=fontsize,title=molecules_names[mol])\n",
    "    if mol in ['H2O','CO','H2O+CO','chem_equ']:\n",
    "        annotate_snr(axes[mol_i,0],planet_pos + np.array([0,7]),snr_ttest,fontsize=fontsize)\n",
    "    axes[mol_i,0].set_xlim((crop,len(cc[0])-crop))\n",
    "    axes[mol_i,0].set_ylim((crop,len(cc[0])-crop))\n",
    "    \n",
    "    # histogram\n",
    "    \n",
    "    axes[mol_i,1].stairs(bins_vals,bins_pos,fill=True)\n",
    "    x=np.linspace(-20,20,500)\n",
    "    y = gaussian(x,popt[0],popt[1],popt[2])\n",
    "    axes[mol_i,1].plot(x,y,color='k')\n",
    "    axes[mol_i,1].axvline(ccf_pl_val,color='orange')\n",
    "\n",
    "    textstr = '\\n'.join((\n",
    "        r'$\\mu=%.2f$' % (popt[0], ),\n",
    "        r'$\\sigma=%.2f$' % (np.abs(popt[1]), ),\n",
    "        r'$C_{\\mathrm{p}}=%.2f$' % (ccf_pl_val, )))\n",
    "    props = dict(boxstyle='round', facecolor='w', alpha=0.5)\n",
    "    axes[mol_i,1].text(0.45, 0.95, textstr, transform=axes[mol_i,1].transAxes, fontsize=fontsize-2,\n",
    "        verticalalignment='top',horizontalalignment='left', bbox=props)\n",
    "    \n",
    "    title_name = molecules_names[mol]\n",
    "    axes[mol_i,1].set_title(title_name,fontsize=fontsize)\n",
    "    ticks=np.arange(-4,(int(ccf_pl_val)//2)*2+2)\n",
    "    axes[mol_i,1].set_xticks(ticks=ticks,minor=True)\n",
    "    axes[mol_i,1].set_xticks(ticks=ticks[::2],minor=False)\n",
    "    axes[mol_i,1].tick_params(which='both',axis='both',labelsize=fontsize-4)\n",
    "    axes[mol_i,1].set_xlabel('Normalised CCF values',fontsize=fontsize-2)\n",
    "    axes[mol_i,1].set_ylabel('Occurence rate',fontsize=fontsize-2)\n",
    "    axes[mol_i,1].set_xlim((-4,ccf_pl_val+1))\n",
    "    axes[mol_i,1].set_box_aspect(0.95)\n",
    "\n",
    "# finish layout\n",
    "plt.tight_layout()\n",
    "\n",
    "plt.subplots_adjust(left=0.,\n",
    "                    right=1., \n",
    "                    bottom=0., \n",
    "                    top=1., \n",
    "                    wspace=0.3, \n",
    "                    hspace=0.35)\n",
    "fig.savefig(save_dir + 'HR8799e_detection_metric.png',dpi=300,bbox_inches='tight')\n",
    "plt.show()"
   ]
  },
  {
   "cell_type": "markdown",
   "id": "b9a04f73-d593-458c-9d4c-1ea46f7cf198",
   "metadata": {},
   "source": [
    "# Extract spectra"
   ]
  },
  {
   "cell_type": "code",
   "execution_count": null,
   "id": "1c86da59-e433-49bd-9944-e11feb5189ee",
   "metadata": {},
   "outputs": [],
   "source": [
    "pca=250"
   ]
  },
  {
   "cell_type": "code",
   "execution_count": null,
   "id": "40c0658f-3f93-4cd7-a2b0-18e6a843b836",
   "metadata": {},
   "outputs": [],
   "source": [
    "# get spectrum of star\n",
    "module = IFUSpectrumExtractionModule(\n",
    "    name_in = 'extract_spectrum_star',\n",
    "    image_in_tag = 'raw_'+ which + '_wvlsel_nancorr_crop_outlier_sel',\n",
    "    obj_position_in_tag = which + '_sel_cubeposition',\n",
    "    obj_spectra_out_tag = 'star' + '_spectra_obj',\n",
    "    bk_spectra_out_tag = 'star' + '_spectra_bk',\n",
    "    aperture_obj_radius = 3*lod_px,\n",
    "    aperture_bk_radius = 3,\n",
    "    aperture_bk_nb = 0,\n",
    "    aperture_bk_dist = 11.,\n",
    "    aperture_bk_angle = 0.,\n",
    "    aperture_bk_position = 'around',\n",
    "    plot = True\n",
    ")\n",
    "pipeline.add_module(module)\n",
    "pipeline.run_module('extract_spectrum_star')"
   ]
  },
  {
   "cell_type": "code",
   "execution_count": null,
   "id": "41be1944-3cc5-4a40-a91f-775932c1c076",
   "metadata": {},
   "outputs": [],
   "source": [
    "# spectrum of planet\n",
    "module = IFUSpectrumExtractionModule(\n",
    "    name_in = 'extract_spectrum_planet',\n",
    "    image_in_tag = f'HRSDI_PCA_{pca}',\n",
    "    obj_position_in_tag = 'planet_cubeposition_abs',\n",
    "    obj_spectra_out_tag = which + '_spectra_obj',\n",
    "    bk_spectra_out_tag = which + '_spectra_bk',\n",
    "    aperture_obj_radius = 1.7,\n",
    "    aperture_bk_radius = 1.7,\n",
    "    aperture_bk_nb = 10,\n",
    "    aperture_bk_dist = 11.,\n",
    "    aperture_bk_angle = 0.,\n",
    "    aperture_bk_position = 'around',\n",
    "    plot = False\n",
    ")\n",
    "pipeline.add_module(module)\n",
    "pipeline.run_module('extract_spectrum_planet')"
   ]
  },
  {
   "cell_type": "code",
   "execution_count": null,
   "id": "720f1e46-fc3d-4056-ad65-673953895762",
   "metadata": {},
   "outputs": [],
   "source": [
    "# spectrum of planet after combination\n",
    "module = IFUSpectrumExtractionModule(\n",
    "    name_in = 'extract_spectrum_planet_prep',\n",
    "    image_in_tag = f'HRSDI_PCA_{pca}_prep',\n",
    "    obj_position_in_tag = 'planet_position',\n",
    "    obj_spectra_out_tag = which + '_spectra_obj_prep',\n",
    "    bk_spectra_out_tag = which + '_spectra_bk_prep',\n",
    "    aperture_obj_radius = 1.7,\n",
    "    aperture_bk_radius = 1.7,\n",
    "    aperture_bk_nb = 10,\n",
    "    aperture_bk_dist = 11.,\n",
    "    aperture_bk_angle = 0.,\n",
    "    aperture_bk_position = 'around',\n",
    "    plot = True\n",
    ")\n",
    "pipeline.add_module(module)\n",
    "pipeline.run_module('extract_spectrum_planet_prep')"
   ]
  },
  {
   "cell_type": "code",
   "execution_count": null,
   "id": "0b13d9c0-5ea7-4102-a23e-50b2050ac2f3",
   "metadata": {},
   "outputs": [],
   "source": [
    "# get spectrum of star at the position of the planet\n",
    "module = IFUSpectrumExtractionModule(\n",
    "    name_in = 'extract_spectrum_star_planet_pos',\n",
    "    image_in_tag = 'raw_'+ which + '_wvlsel_nancorr_crop_outlier_sel',\n",
    "    obj_position_in_tag = 'planet_cubeposition_abs',\n",
    "    obj_spectra_out_tag = 'star_spectra_obj_planet_pos',\n",
    "    bk_spectra_out_tag = 'star_spectra_bk_planet_pos',\n",
    "    aperture_obj_radius = 1.7,\n",
    "    aperture_bk_radius = 1.7,\n",
    "    aperture_bk_nb = 0,\n",
    "    aperture_bk_dist = 11.,\n",
    "    aperture_bk_angle = 0.,\n",
    "    aperture_bk_position = 'around',\n",
    "    plot = True\n",
    ")\n",
    "pipeline.add_module(module)\n",
    "pipeline.run_module('extract_spectrum_star_planet_pos')"
   ]
  },
  {
   "cell_type": "code",
   "execution_count": null,
   "id": "b28bac96-9026-4770-aeb0-3811d38c8c9c",
   "metadata": {},
   "outputs": [],
   "source": [
    "wavelength = pipeline.get_data('wavelength_' + which)\n",
    "np.savetxt(save_dir + 'wavelength.txt',wavelength)\n",
    "\n",
    "spectra_star = pipeline.get_data('star_spectra_obj')\n",
    "np.savetxt(save_dir + 'spectra_star.txt',spectra_star)\n",
    "\n",
    "spectra_planet = pipeline.get_data('planet_spectra_obj')\n",
    "np.savetxt(save_dir + 'spectra_planet.txt',spectra_planet)\n",
    "\n",
    "spectra_star = pipeline.get_data('star_spectra_obj_planet_pos')\n",
    "np.savetxt(save_dir + 'spectra_star_planet_pos.txt',spectra_star)"
   ]
  },
  {
   "cell_type": "code",
   "execution_count": null,
   "id": "672cd304-cdc2-4082-aeb8-75bef75010d6",
   "metadata": {},
   "outputs": [],
   "source": [
    "# save timestamp of each frame\n",
    "dateobs = pipeline.get_attribute('raw_'+ which + '_wvlsel_nancorr_crop_outlier_sel',attr_name='DATE',static=False).astype(str)\n",
    "dit = pipeline.get_attribute('raw_'+ which + '_wvlsel_nancorr_crop_outlier_sel',attr_name='DIT',static=True)\n",
    "delta_dit = timedelta(seconds=dit/2)\n",
    "time_frame = np.array(list(map(lambda x: datetime.fromtimestamp(np.round((datetime.fromisoformat(x)-delta_dit).timestamp())).isoformat(),dateobs))).astype(str)\n",
    "np.savetxt(save_dir + 'datetime.txt',time_frame,fmt='%s')"
   ]
  },
  {
   "cell_type": "code",
   "execution_count": null,
   "id": "caf3057d-cc6a-4047-afa3-40a6ce6227ef",
   "metadata": {},
   "outputs": [],
   "source": []
  }
 ],
 "metadata": {
  "kernelspec": {
   "display_name": "Python 3 (ipykernel)",
   "language": "python",
   "name": "python3"
  },
  "language_info": {
   "codemirror_mode": {
    "name": "ipython",
    "version": 3
   },
   "file_extension": ".py",
   "mimetype": "text/x-python",
   "name": "python",
   "nbconvert_exporter": "python",
   "pygments_lexer": "ipython3",
   "version": "3.11.2"
  }
 },
 "nbformat": 4,
 "nbformat_minor": 5
}
