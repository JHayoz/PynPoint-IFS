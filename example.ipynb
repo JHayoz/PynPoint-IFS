{
 "cells": [
  {
   "cell_type": "code",
   "execution_count": null,
   "id": "57887fc8-890b-4f79-aa92-0138cad79019",
   "metadata": {},
   "outputs": [],
   "source": [
    "import os\n",
    "os.environ['OMP_NUM_THREADS'] = '30'\n",
    "import numpy as np\n",
    "import pynpoint as pp\n",
    "from tqdm import tqdm\n",
    "import matplotlib.pyplot as plt\n",
    "from astropy.modeling import models, fitting\n",
    "import pandas as pd\n",
    "from astropy.io import fits\n",
    "from glob import glob\n",
    "import sys\n",
    "from pathlib import Path\n",
    "from PyAstronomy.pyasl import crosscorrRV,dopplerShift\n",
    "from scipy.ndimage import gaussian_filter\n",
    "from scipy.signal import medfilt,savgol_filter\n",
    "import spectres\n",
    "from skimage.registration import phase_cross_correlation\n",
    "\n",
    "\n",
    "\n",
    "\n",
    "sys.path.append('/home/ipa/quanz/user_accounts/jhayoz/Projects/archival_SINFONI/SINFONI_pipeline/Pynpoint_ifs')\n",
    "from pynpoint_ifs.ifuframeselection import SelectWavelengthRangeModule,AutomaticallySelectWavelengthRangeModule\n",
    "from pynpoint_ifs.ifubadpixel import NanFilterModule,OutlierCorrectionModule\n",
    "from pynpoint_ifs.ifucentering import IFUAlignCubesModule,FitCenterCustomModule\n",
    "from pynpoint_ifs.ifupsfpreparation import IFUStellarSpectrumModule,IFUWavelengthCalibrationModule,IFUWavelengthCorrectionModule,IFUSDIpreparationModule,IFUTelluricsWavelengthCalibrationModule\n",
    "from pynpoint_ifs.ifupsfsubtraction import IFUContinuumRemovalModule,IFUPSFSubtractionModuleCugno,IFUPCAPSFSubtractionModule,IFUPCAModule\n",
    "from pynpoint_ifs.ifuresizing import FoldingModule,FinerGridInterpolationModule\n",
    "from pynpoint_ifs.ifustacksubset import CrossCorrelationPreparationModule,StackCubesModule,ApertureCombineModule\n",
    "from pynpoint_ifs.ifucrosscorrelation import CrossCorrelationModule_Jean\n",
    "from pynpoint_ifs.ifuresizing import UnfoldingModule,UpSampleModule\n",
    "from pynpoint_ifs.ifufitswriting import IFUFitsWritingModule\n",
    "from pynpoint_ifs.ifufluxcalibration import IFUSpectrumExtractionModule\n",
    "from pynpoint_ifs.ifufakeplanetinjection import IFUFakePlanetInjectionModule\n",
    "from pynpoint_ifs.ifuprocessingfunctions import do_PCA_sub,do_derotate_shift\n",
    "from pynpoint_ifs.ifuprocessing import IFUPostProcessingModule\n",
    "from pynpoint_ifs.ifu_utils import *\n",
    "from pynpoint_ifs.ifu_utils_hidden import *\n",
    "from pynpoint_ifs.ifu_plotting import *\n",
    "from pynpoint_ifs.ifu_pipeline import run_preprocessing"
   ]
  }
 ],
 "metadata": {
  "kernelspec": {
   "display_name": "Python 3 (ipykernel)",
   "language": "python",
   "name": "python3"
  },
  "language_info": {
   "codemirror_mode": {
    "name": "ipython",
    "version": 3
   },
   "file_extension": ".py",
   "mimetype": "text/x-python",
   "name": "python",
   "nbconvert_exporter": "python",
   "pygments_lexer": "ipython3",
   "version": "3.11.2"
  }
 },
 "nbformat": 4,
 "nbformat_minor": 5
}
